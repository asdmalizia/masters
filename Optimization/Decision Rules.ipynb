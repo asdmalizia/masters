{
 "cells": [
  {
   "cell_type": "code",
   "execution_count": 1,
   "id": "05a46d82-b9ab-4db1-bf66-5e7cc3ead806",
   "metadata": {},
   "outputs": [],
   "source": [
    "using Distributions, Random\n",
    "using Plots\n",
    "using JuMP\n",
    "using HiGHS"
   ]
  },
  {
   "cell_type": "code",
   "execution_count": 2,
   "id": "dc818b16-e2f1-438a-8478-bbdf5d3f19be",
   "metadata": {},
   "outputs": [],
   "source": [
    "# parametros\n",
    "u  = 150;\n",
    "q  = 25;\n",
    "r_ =  5;\n",
    "c  = 10;"
   ]
  },
  {
   "cell_type": "markdown",
   "id": "0da94f57-c28d-4b62-8567-c64aec769709",
   "metadata": {},
   "source": [
    "## Sampling"
   ]
  },
  {
   "cell_type": "code",
   "execution_count": 4,
   "id": "e4c2bf47-4f38-4e1d-bffa-08ce421d6dd4",
   "metadata": {},
   "outputs": [],
   "source": [
    "Random.seed!(1);\n",
    "\n",
    "dmin =  50;\n",
    "dmax = 150;\n",
    "\n",
    "nCenarios = 200;                                # Number of Scenarios\n",
    "Ω = 1:nCenarios;                                    # Set of Scenarios\n",
    "p = ones(nCenarios)*(1/nCenarios);                  # Equal Probability\n",
    "ξ_true = rand(Uniform(dmin, dmax), nCenarios);"
   ]
  },
  {
   "cell_type": "markdown",
   "id": "c11ae65b-ea9e-4e46-9b46-5145f0aea252",
   "metadata": {},
   "source": [
    "## a) True Problem"
   ]
  },
  {
   "cell_type": "markdown",
   "id": "0fecb370-ab66-4ca8-9fc1-36c9aa490d3c",
   "metadata": {},
   "source": [
    "Solve decision problem with 200_000 samples"
   ]
  },
  {
   "cell_type": "markdown",
   "id": "953e7524-fa1a-410e-9fba-e9823f1b909a",
   "metadata": {
    "jp-MarkdownHeadingCollapsed": true
   },
   "source": [
    "### Estimação"
   ]
  },
  {
   "cell_type": "code",
   "execution_count": 5,
   "id": "ba6d214c-0dd9-4e25-89dc-f176b02211bc",
   "metadata": {},
   "outputs": [],
   "source": [
    "TrueProblem = Model(HiGHS.Optimizer);\n",
    "\n",
    "# ========== Variáveis de Decisão ========== #\n",
    "@variable(TrueProblem, x >= 0);\n",
    "@variable(TrueProblem, yS[Ω] >= 0);\n",
    "@variable(TrueProblem, yR[Ω] >= 0); "
   ]
  },
  {
   "cell_type": "code",
   "execution_count": 6,
   "id": "5f698b11-116c-43c5-b348-f5810bab16fd",
   "metadata": {},
   "outputs": [],
   "source": [
    "# ========== Restrições ========== #\n",
    "@constraint(TrueProblem, x <= u);\n",
    "@constraint(TrueProblem, [ω in Ω], yS[ω] <= ξ_true[ω]);\n",
    "@constraint(TrueProblem, [ω in Ω], yS[ω] + yR[ω] <= x);"
   ]
  },
  {
   "cell_type": "code",
   "execution_count": 7,
   "id": "19cb7265-b135-49da-b6f5-04773ca0e195",
   "metadata": {},
   "outputs": [
    {
     "name": "stdout",
     "output_type": "stream",
     "text": [
      "Presolve : Reductions: rows 200(-201); columns 401(-0); elements 600(-201)\n",
      "INFO   : Solving the presolved LP\n",
      "INFO   : Scaling: Matrix has [min, max] values of [1, 1] within [0.2, 5] so no scaling performed\n",
      "INFO   : Basis condition estimate of           1 is within the tolerance of 1e+14\n",
      "INFO   : Using dual simplex solver - serial\n",
      "       Iteration        Objective     Infeasibilities num(sum)\n",
      "DuPh2          0     3.2525405078e+03 Pr: 200(50017.1)\n",
      "DuPh2         50     2.2034006353e+03 Pr: 150(35624.9)\n",
      "DuPh2        100     1.6038479513e+03 Pr: 180(9279.88)\n",
      "DuPh2        150     1.4935633915e+03 Pr: 130(4869.81)\n",
      "DuPh2        200     1.4130128149e+03 Pr: 80(1648.74)\n",
      "DuPh2        231     1.3126927332e+03 Pr: 0(0)\n",
      "DuPh2        231     1.3124942344e+03 Pr: 0(0)\n",
      "INFO   : Dual simplex iterations [Ph1 0; Ph2 231; Pr 0] Total 231\n",
      "INFO   : Solving the original LP from the solution after postsolve\n",
      "INFO   : Scaling: Matrix has [min, max] values of [1, 1] within [0.2, 5] so no scaling performed\n",
      "INFO   : Basis condition estimate of   5.045e+04 is within the tolerance of 1e+14\n",
      "Postsolve  : 0\n",
      "Time       :     0.02\n",
      "Time Pre   :     0.01\n",
      "Time PreLP :     0.01\n",
      "Time PostLP:     0.00\n",
      "For LP                 : Presolve     0.01 ( 45%): Solve presolved LP     0.01 ( 49%): Solve original LP     0.00 (  5%)\n"
     ]
    }
   ],
   "source": [
    "# ========== Função Objetivo ========== #\n",
    "@objective(TrueProblem, Max, sum(p[ω]*(q*yS[ω] + r_*yR[ω] - c*x) for ω in Ω));\n",
    "\n",
    "optimize!(TrueProblem);\n",
    "\n",
    "status_True      = termination_status(TrueProblem);\n",
    "\n",
    "ObjFun_True      = JuMP.objective_value(TrueProblem);\n",
    "xOpt_True        = JuMP.value(x);\n",
    "ySOpt_True       = JuMP.value.(yS);\n",
    "yROpt_True       = JuMP.value.(yR);"
   ]
  },
  {
   "cell_type": "markdown",
   "id": "55d85c71-9c09-4ebf-a259-e2bd19d4f88c",
   "metadata": {},
   "source": [
    "### Resultados"
   ]
  },
  {
   "cell_type": "code",
   "execution_count": 8,
   "id": "33667251-d512-4b6d-a36c-3a542c1e922a",
   "metadata": {},
   "outputs": [
    {
     "name": "stdout",
     "output_type": "stream",
     "text": [
      "True Problem -- Number Samples: 200\n",
      "\n",
      "     -> Status: OPTIMAL\n",
      "     -> Objective Function: 1312.4942344258855\n",
      "     -> First-Stage Cost: 1251.31263278617\n",
      "     -> First-Stage Solution: 125.13126327861701\n"
     ]
    }
   ],
   "source": [
    "println(\"True Problem -- Number Samples: \", nCenarios, \"\\n\");\n",
    "println(\"     -> Status: \", status_True);\n",
    "println(\"     -> Objective Function: \", ObjFun_True);\n",
    "println(\"     -> First-Stage Cost: \", c*xOpt_True);\n",
    "println(\"     -> First-Stage Solution: \", xOpt_True);"
   ]
  },
  {
   "cell_type": "markdown",
   "id": "87367e1f-ebd8-4f87-93c3-9fb993660058",
   "metadata": {},
   "source": [
    "## b) Scenario Wise"
   ]
  },
  {
   "cell_type": "markdown",
   "id": "1fb0743e-60fe-4d18-9036-54deaed1555d",
   "metadata": {},
   "source": [
    "Solve decision problem with 100 samples"
   ]
  },
  {
   "cell_type": "markdown",
   "id": "7feed57b-4577-4d39-a0c0-9e67d0179fb5",
   "metadata": {
    "jp-MarkdownHeadingCollapsed": true
   },
   "source": [
    "### Estimação"
   ]
  },
  {
   "cell_type": "code",
   "execution_count": 16,
   "id": "a69bc1c8-3e4f-485d-bbf1-a1f606f9690b",
   "metadata": {},
   "outputs": [],
   "source": [
    "TrueProblem = Model(HiGHS.Optimizer);\n",
    "\n",
    "# ========== Variáveis de Decisão ========== #\n",
    "@variable(TrueProblem, x >= 0);\n",
    "@variable(TrueProblem, yS[Ω[1:100]] >= 0);\n",
    "@variable(TrueProblem, yR[Ω[1:100]] >= 0); "
   ]
  },
  {
   "cell_type": "code",
   "execution_count": 17,
   "id": "82620a26-a598-428d-999f-87bca548cd47",
   "metadata": {},
   "outputs": [],
   "source": [
    "# ========== Restrições ========== #\n",
    "@constraint(TrueProblem, x <= u);\n",
    "@constraint(TrueProblem, [ω in Ω[1:100]], yS[ω] <= ξ_true[ω]);\n",
    "@constraint(TrueProblem, [ω in Ω[1:100]], yS[ω] + yR[ω] <= x);"
   ]
  },
  {
   "cell_type": "code",
   "execution_count": 18,
   "id": "63b8ff10-a648-4a58-9dc8-30e9310e88f7",
   "metadata": {},
   "outputs": [
    {
     "name": "stdout",
     "output_type": "stream",
     "text": [
      "Presolve : Reductions: rows 100(-101); columns 201(-0); elements 300(-101)\n",
      "INFO   : Solving the presolved LP\n",
      "INFO   : Scaling: Matrix has [min, max] values of [1, 1] within [0.2, 5] so no scaling performed\n",
      "INFO   : Basis condition estimate of           1 is within the tolerance of 1e+14\n",
      "INFO   : Using dual simplex solver - serial\n",
      "       Iteration        Objective     Infeasibilities num(sum)\n",
      "DuPh2          0     1.6086341443e+03 Pr: 100(24868.3)\n",
      "DuPh2         50     7.9381672431e+02 Pr: 52(6290.92)\n",
      "DuPh2        100     6.7220041969e+02 Pr: 12(1114.9)\n",
      "DuPh2        115     6.4479088417e+02 Pr: 0(0)\n",
      "DuPh2        115     6.4474222054e+02 Pr: 0(0)\n",
      "INFO   : Dual simplex iterations [Ph1 0; Ph2 115; Pr 0] Total 115\n",
      "INFO   : Solving the original LP from the solution after postsolve\n",
      "INFO   : Scaling: Matrix has [min, max] values of [1, 1] within [0.2, 5] so no scaling performed\n",
      "INFO   : Basis condition estimate of   1.273e+04 is within the tolerance of 1e+14\n",
      "Postsolve  : 0\n",
      "Time       :     0.00\n",
      "Time Pre   :     0.00\n",
      "Time PreLP :     0.00\n",
      "Time PostLP:     0.00\n",
      "For LP                 : Presolve     0.00 ( 49%): Solve presolved LP     0.00 ( 50%)\n"
     ]
    }
   ],
   "source": [
    "# ========== Função Objetivo ========== #\n",
    "@objective(TrueProblem, Max, sum(p[ω]*(q*yS[ω] + r_*yR[ω] - c*x) for ω in Ω[1:100]));\n",
    "\n",
    "optimize!(TrueProblem);\n",
    "\n",
    "status_True      = termination_status(TrueProblem);\n",
    "\n",
    "ObjFun_True      = JuMP.objective_value(TrueProblem);\n",
    "xOpt_True        = JuMP.value(x);\n",
    "ySOpt_True       = JuMP.value.(yS);\n",
    "yROpt_True       = JuMP.value.(yR);"
   ]
  },
  {
   "cell_type": "markdown",
   "id": "ad97524e-ff22-4607-97df-c95feb762e11",
   "metadata": {},
   "source": [
    "### Resultados"
   ]
  },
  {
   "cell_type": "code",
   "execution_count": 21,
   "id": "ac2874cd-482c-49c2-abf1-4ed8ab5fd8ac",
   "metadata": {},
   "outputs": [
    {
     "name": "stdout",
     "output_type": "stream",
     "text": [
      "Scenario Wise -- Number Samples: 100.0\n",
      "\n",
      "     -> Status: OPTIMAL\n",
      "     -> Objective Function: 644.7422205401214\n",
      "     -> First-Stage Cost: 1202.5571355154577\n",
      "     -> First-Stage Solution: 120.25571355154578\n"
     ]
    }
   ],
   "source": [
    "println(\"Scenario Wise -- Number Samples: \", nCenarios/2, \"\\n\");\n",
    "println(\"     -> Status: \", status_True);\n",
    "println(\"     -> Objective Function: \", ObjFun_True);\n",
    "println(\"     -> First-Stage Cost: \", c*xOpt_True);\n",
    "println(\"     -> First-Stage Solution: \", xOpt_True);"
   ]
  },
  {
   "cell_type": "markdown",
   "id": "c439479f-26c7-4baa-bbf3-7b3b93a71168",
   "metadata": {},
   "source": [
    "## c) Linear Decision Rule"
   ]
  },
  {
   "cell_type": "markdown",
   "id": "840c3f88-669e-434a-bff8-3cb4f5b92164",
   "metadata": {
    "jp-MarkdownHeadingCollapsed": true
   },
   "source": [
    "### Estimação"
   ]
  },
  {
   "cell_type": "code",
   "execution_count": 24,
   "id": "c80580f3-47bd-41cb-b0ea-e801017e0372",
   "metadata": {},
   "outputs": [],
   "source": [
    "TrueProblem = Model(HiGHS.Optimizer);\n",
    "\n",
    "# ========== Variáveis de Decisão ========== #\n",
    "@variable(TrueProblem, x >= 0);\n",
    "# @variable(TrueProblem, yS[Ω] >= 0);\n",
    "# @variable(TrueProblem, yR[Ω] >= 0); \n",
    "@variable(TrueProblem, lS);\n",
    "@variable(TrueProblem, lR);\n",
    "@variable(TrueProblem, l0S);\n",
    "@variable(TrueProblem, l0R);"
   ]
  },
  {
   "cell_type": "code",
   "execution_count": 25,
   "id": "5fa5422f-eefa-4941-9e9a-71f8d8ca4f9d",
   "metadata": {},
   "outputs": [],
   "source": [
    "# ========== Restrições ========== #\n",
    "@constraint(TrueProblem, x <= u);\n",
    "@constraint(TrueProblem, [ω in Ω], lS*ξ_true[ω] + l0S <= ξ_true[ω]);\n",
    "@constraint(TrueProblem, [ω in Ω], lS*ξ_true[ω] + l0S + lR*ξ_true[ω] + l0R <= x);\n",
    "@constraint(TrueProblem, [ω in Ω], lS*ξ_true[ω] + l0S >= 0);\n",
    "@constraint(TrueProblem, [ω in Ω], lR*ξ_true[ω] + l0R >= 0);"
   ]
  },
  {
   "cell_type": "code",
   "execution_count": null,
   "id": "bd6b687e-bf4a-4876-b5c7-8cdae367ae7d",
   "metadata": {},
   "outputs": [],
   "source": [
    "# ========== Função Objetivo ========== #\n",
    "@objective(TrueProblem, Max, sum(p[ω]*(q*(lS*ξ_true[ω] + l0S) + r_*(lR*ξ_true[ω] + l0R) - c*x) for ω in Ω));\n",
    "\n",
    "optimize!(TrueProblem);\n",
    "\n",
    "status_True      = termination_status(TrueProblem);\n",
    "\n",
    "ObjFun_True      = JuMP.objective_value(TrueProblem);\n",
    "xOpt_True        = JuMP.value(x);"
   ]
  },
  {
   "cell_type": "code",
   "execution_count": 45,
   "id": "c7b7377c-2a91-48e4-b4ae-3db7e0dc784c",
   "metadata": {},
   "outputs": [],
   "source": [
    "# ySOpt_True       = \n",
    "# JuMP.value.(lS)*ξ_true[Ω] + JuMP.value.(l0S);"
   ]
  },
  {
   "cell_type": "code",
   "execution_count": 44,
   "id": "485a61b1-348c-4a18-a548-7528353c35a5",
   "metadata": {},
   "outputs": [
    {
     "data": {
      "text/plain": [
       "-0.0"
      ]
     },
     "execution_count": 44,
     "metadata": {},
     "output_type": "execute_result"
    }
   ],
   "source": [
    "JuMP.value.(l0S)"
   ]
  },
  {
   "cell_type": "markdown",
   "id": "4b815a5f-9ca9-4f78-84f9-d1dbc5f9da4a",
   "metadata": {},
   "source": [
    "### Resultados"
   ]
  },
  {
   "cell_type": "code",
   "execution_count": 32,
   "id": "4715ff3e-0311-4113-8c7b-8d1bf330309c",
   "metadata": {},
   "outputs": [
    {
     "name": "stdout",
     "output_type": "stream",
     "text": [
      "True Problem -- Number Samples: 200\n",
      "\n",
      "     -> Status: OPTIMAL\n",
      "     -> Objective Function: 1251.7597359355116\n",
      "     -> First-Stage Cost: 1499.9046588986134\n",
      "     -> First-Stage Solution: 149.99046588986135\n"
     ]
    }
   ],
   "source": [
    "println(\"True Problem -- Number Samples: \", nCenarios, \"\\n\");\n",
    "println(\"     -> Status: \", status_True);\n",
    "println(\"     -> Objective Function: \", ObjFun_True);\n",
    "println(\"     -> First-Stage Cost: \", c*xOpt_True);\n",
    "println(\"     -> First-Stage Solution: \", xOpt_True);"
   ]
  },
  {
   "cell_type": "code",
   "execution_count": null,
   "id": "b703a22c-a2e3-4d16-96db-002ef11d754e",
   "metadata": {},
   "outputs": [],
   "source": []
  },
  {
   "cell_type": "markdown",
   "id": "2b71876b-b452-45e8-b44c-c79a8b0e564b",
   "metadata": {},
   "source": [
    "## d) Piecewise Linear"
   ]
  },
  {
   "cell_type": "code",
   "execution_count": null,
   "id": "c28e7268-30a0-40e8-b537-22a4369cebd6",
   "metadata": {},
   "outputs": [],
   "source": []
  }
 ],
 "metadata": {
  "kernelspec": {
   "display_name": "Julia 1.6.1",
   "language": "julia",
   "name": "julia-1.6"
  },
  "language_info": {
   "file_extension": ".jl",
   "mimetype": "application/julia",
   "name": "julia",
   "version": "1.6.1"
  }
 },
 "nbformat": 4,
 "nbformat_minor": 5
}
