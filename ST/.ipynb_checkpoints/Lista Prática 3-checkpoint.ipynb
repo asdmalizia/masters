{
 "cells": [
  {
   "cell_type": "markdown",
   "id": "d10bad5a-bd69-41cc-83b8-5a268a9d963a",
   "metadata": {},
   "source": [
    "$ \\textbf{Aluna:}$ Alessandra da Silva Dias Malizia   \n",
    "$ \\textbf{Data:}$ 24/11/2024"
   ]
  },
  {
   "cell_type": "markdown",
   "id": "2708192d-f323-47bb-a325-f096206839c8",
   "metadata": {},
   "source": [
    "# Lista Prática 3"
   ]
  },
  {
   "cell_type": "code",
   "execution_count": 1,
   "id": "4971d262-fc0e-4c7e-a136-14e3e1d86329",
   "metadata": {
    "scrolled": true
   },
   "outputs": [],
   "source": [
    "import io\n",
    "import sys\n",
    "import pandas as pd\n",
    "import numpy as np\n",
    "import requests\n",
    "import json\n",
    "import matplotlib.pyplot as plt\n",
    "from datetime import datetime\n",
    "from statsmodels.tsa.exponential_smoothing.ets import ETSModel\n",
    "from statsmodels.tsa.stattools import kpss\n",
    "from pmdarima import auto_arima\n",
    "from statsmodels.stats.diagnostic import acorr_ljungbox, het_arch\n",
    "from statsmodels.graphics.tsaplots import plot_acf, plot_pacf \n",
    "from statsmodels.tsa.stattools import acf, pacf, breakvar_heteroskedasticity_test\n",
    "from statsmodels.stats.stattools import jarque_bera\n",
    "import statsmodels.api as sm\n",
    "from xgboost import XGBRegressor, plot_importance"
   ]
  },
  {
   "cell_type": "markdown",
   "id": "cc794662-3f1d-4ec4-bd58-082f5044317e",
   "metadata": {},
   "source": [
    "## Download da Série"
   ]
  },
  {
   "cell_type": "code",
   "execution_count": 2,
   "id": "0961c93d-34e2-4025-8fb0-d45a55a0254d",
   "metadata": {},
   "outputs": [],
   "source": [
    "url = 'http://www.ipeadata.gov.br/api/odata4/'\n",
    "ticker = 'ANDA12_VFERTILIZ12'\n",
    "\n",
    "# Dados\n",
    "r = requests.get(url + \"/Metadados('{}')/Valores\".format(ticker))\n",
    "data = json.loads(r.text)\n",
    "\n",
    "series = pd.DataFrame(data['value'], columns=['VALDATA','VALVALOR']).rename(columns={'VALDATA':'date','VALVALOR':'value'}).set_index('date')\n",
    "series.index = pd.to_datetime(series.index.map(lambda x: x.split('T')[0]))\n",
    "series = series.div(1e6)\n",
    "\n",
    "# Divisão entre período de teste e treino\n",
    "series_train = series.iloc[:-12]\n",
    "series_test = series.iloc[-12:]"
   ]
  },
  {
   "cell_type": "code",
   "execution_count": 3,
   "id": "c20e0907-3d32-4b31-9fd6-3aec1afa4cd2",
   "metadata": {
    "scrolled": true
   },
   "outputs": [
    {
     "data": {
      "text/html": [
       "<div>\n",
       "<style scoped>\n",
       "    .dataframe tbody tr th:only-of-type {\n",
       "        vertical-align: middle;\n",
       "    }\n",
       "\n",
       "    .dataframe tbody tr th {\n",
       "        vertical-align: top;\n",
       "    }\n",
       "\n",
       "    .dataframe thead th {\n",
       "        text-align: right;\n",
       "    }\n",
       "</style>\n",
       "<table border=\"1\" class=\"dataframe\">\n",
       "  <thead>\n",
       "    <tr style=\"text-align: right;\">\n",
       "      <th></th>\n",
       "      <th>Metadados</th>\n",
       "    </tr>\n",
       "  </thead>\n",
       "  <tbody>\n",
       "    <tr>\n",
       "      <th>Fonte</th>\n",
       "      <td>Associação Nacional para Difusão de Adubos (Anda)</td>\n",
       "    </tr>\n",
       "    <tr>\n",
       "      <th>Unidade</th>\n",
       "      <td>Tonelada</td>\n",
       "    </tr>\n",
       "    <tr>\n",
       "      <th>Período da série</th>\n",
       "      <td>01/01/1998 a 01/07/2024</td>\n",
       "    </tr>\n",
       "    <tr>\n",
       "      <th>Período de treino</th>\n",
       "      <td>01/01/1998 a 01/07/2023</td>\n",
       "    </tr>\n",
       "    <tr>\n",
       "      <th>Período de teste</th>\n",
       "      <td>01/08/2023 a 01/07/2024</td>\n",
       "    </tr>\n",
       "  </tbody>\n",
       "</table>\n",
       "</div>"
      ],
      "text/plain": [
       "                                                           Metadados\n",
       "Fonte              Associação Nacional para Difusão de Adubos (Anda)\n",
       "Unidade                                                     Tonelada\n",
       "Período da série                             01/01/1998 a 01/07/2024\n",
       "Período de treino                            01/01/1998 a 01/07/2023\n",
       "Período de teste                             01/08/2023 a 01/07/2024"
      ]
     },
     "execution_count": 3,
     "metadata": {},
     "output_type": "execute_result"
    }
   ],
   "source": [
    "# Metadados\n",
    "r = requests.get(url + \"/Metadados('{}')\".format(ticker))\n",
    "metadata = json.loads(r.text)\n",
    "\n",
    "pd.DataFrame(index=['Metadados'], data={\n",
    "    'Fonte':metadata['value'][0]['FNTNOME'], \n",
    "    'Unidade':metadata['value'][0]['UNINOME'],\n",
    "    'Período da série': '{} a {}'.format(series.index[0].strftime('%d/%m/%Y'), series.index[-1].strftime('%d/%m/%Y')),\n",
    "    'Período de treino': '{} a {}'.format(series_train.index[0].strftime('%d/%m/%Y'), series_train.index[-1].strftime('%d/%m/%Y')),\n",
    "    'Período de teste': '{} a {}'.format(series_test.index[0].strftime('%d/%m/%Y'), series_test.index[-1].strftime('%d/%m/%Y')),\n",
    "}).T"
   ]
  },
  {
   "cell_type": "markdown",
   "id": "802b6345-4c76-435b-839d-c6d19cdfdedc",
   "metadata": {},
   "source": [
    "# Questão 1"
   ]
  },
  {
   "attachments": {},
   "cell_type": "markdown",
   "id": "df6a8a4d-8159-4718-bb72-aa1c041bf0b4",
   "metadata": {},
   "source": [
    "### a) Estimação SARIMA\n",
    "O modelo escolhido pelo auto arima foi o SARIMA(1,1,2)(1,0,1)"
   ]
  },
  {
   "cell_type": "code",
   "execution_count": 4,
   "id": "794e6137-29dc-4152-a149-ed4a420e103c",
   "metadata": {},
   "outputs": [
    {
     "name": "stdout",
     "output_type": "stream",
     "text": [
      " ARIMA(1,1,2)(1,0,1)[12] intercept\n"
     ]
    }
   ],
   "source": [
    "# estimação do auto arima\n",
    "arima = auto_arima(series_train, seasonal=True, m=12, information_criteria='aicc', \n",
    "                   stepwise=False, error_action='ignore', trace=False)\n",
    "print(arima)\n",
    "\n",
    "# resíduos\n",
    "resid = pd.DataFrame(columns=['SARIMA','XGBoost'])\n",
    "resid['SARIMA'] = arima.resid() "
   ]
  },
  {
   "cell_type": "markdown",
   "id": "9bf23406-cf2b-452c-9f60-1860d87e55e9",
   "metadata": {},
   "source": [
    "### b) Estimação XGBoost\n",
    "Segundo a importance matrix, o modelo estimado pelo xgboost possui maior ganho nas variáveis do mês e do lag de 12 meses. Esse resultado é coerente e indica que o modelo está capturando a sazonalidade mensal da série através dessas features. \n",
    "\n",
    "As outras variáveis possuem ganho semelhante, bem mais baixo que das duas maiores. Entre essas, as médias móveis se destacam, indicando a captura de uma tendência pelo modelo."
   ]
  },
  {
   "cell_type": "code",
   "execution_count": 5,
   "id": "ffd2a0d9-a026-4d91-840b-7168c648ef68",
   "metadata": {},
   "outputs": [],
   "source": [
    "# série da primeira diferença\n",
    "series_diff = series.diff().dropna()\n",
    "series_diff_train, series_diff_test = series_diff.iloc[:-12], series_diff.iloc[-12:]\n",
    "\n",
    "# construindo features do xgboost\n",
    "features_xgboost = pd.DataFrame()\n",
    "\n",
    "# lags\n",
    "for i in range(1,13):\n",
    "    features_xgboost = features_xgboost.join(series_diff['value'].rename(f'lag_{i}').shift(i), how='outer')\n",
    "\n",
    "# mês e ano\n",
    "features_xgboost['month'] = features_xgboost.index.month\n",
    "features_xgboost['year'] = features_xgboost.index.year\n",
    "\n",
    "# médias móveis\n",
    "features_xgboost['ma3m'] = series_diff['value'].rolling(3, closed='left').mean()\n",
    "features_xgboost['ma6m'] = series_diff['value'].rolling(6, closed='left').mean()\n",
    "features_xgboost['ma12m'] = series_diff['value'].rolling(12, closed='left').mean()\n",
    "\n",
    "features_xgboost = features_xgboost.dropna()\n",
    "features_xgboost_train, features_xgboost_test = features_xgboost.iloc[:-12], features_xgboost.iloc[-12:]"
   ]
  },
  {
   "cell_type": "code",
   "execution_count": 6,
   "id": "691e4849-4ad9-47f0-b943-0854d01094cf",
   "metadata": {},
   "outputs": [
    {
     "name": "stdout",
     "output_type": "stream",
     "text": [
      "XGBRegressor(base_score=None, booster=None, callbacks=None,\n",
      "             colsample_bylevel=None, colsample_bynode=None,\n",
      "             colsample_bytree=0.8, device=None, early_stopping_rounds=None,\n",
      "             enable_categorical=False, eta=0.1, eval_metric=None,\n",
      "             feature_types=None, gamma=None, grow_policy=None,\n",
      "             importance_type=None, interaction_constraints=None,\n",
      "             learning_rate=None, max_bin=None, max_cat_threshold=None,\n",
      "             max_cat_to_onehot=None, max_delta_step=None, max_depth=6,\n",
      "             max_leaves=None, min_child_weight=None, missing=nan,\n",
      "             monotone_constraints=None, multi_strategy=None, n_estimators=None,\n",
      "             n_jobs=None, num_parallel_tree=None, ...)\n"
     ]
    }
   ],
   "source": [
    "# estimação do modelo\n",
    "xgboost = XGBRegressor(objective='reg:squarederror', max_depth=6, \n",
    "                           eta=0.1, subsample=0.8, colsample_bytree=0.8)\n",
    "xgboost.fit(features_xgboost_train, series_diff_train.loc[features_xgboost_train.index])\n",
    "print(xgboost)\n",
    "\n",
    "# resíduos\n",
    "predictions = pd.Series(xgboost.predict(features_xgboost_train), index=features_xgboost_train.index)\n",
    "resid['XGBoost'] = series_diff_train.loc[features_xgboost_train.index,'value'].sub(predictions)\n",
    "\n",
    "# padronizando os resíduos\n",
    "resid = resid.sub(resid.mean()).div(resid.std())"
   ]
  },
  {
   "cell_type": "code",
   "execution_count": 7,
   "id": "7f4df2fe-e606-4e89-b095-a47b2162862f",
   "metadata": {},
   "outputs": [
    {
     "data": {
      "text/plain": [
       "lag_12    0.941741\n",
       "month     0.893525\n",
       "ma6m      0.108219\n",
       "ma12m     0.061740\n",
       "ma3m      0.059480\n",
       "lag_7     0.058921\n",
       "lag_11    0.056376\n",
       "lag_8     0.050881\n",
       "lag_4     0.045761\n",
       "year      0.045645\n",
       "lag_9     0.045212\n",
       "lag_3     0.034428\n",
       "lag_5     0.032208\n",
       "lag_10    0.031705\n",
       "lag_6     0.031113\n",
       "lag_1     0.028039\n",
       "lag_2     0.016991\n",
       "dtype: float64"
      ]
     },
     "execution_count": 7,
     "metadata": {},
     "output_type": "execute_result"
    }
   ],
   "source": [
    "# importance matrix\n",
    "importance_matrix = xgboost.get_booster().get_score(importance_type='gain')\n",
    "importance_matrix = pd.Series(importance_matrix).sort_values(ascending=False)\n",
    "importance_matrix"
   ]
  },
  {
   "cell_type": "code",
   "execution_count": 8,
   "id": "7c685c3c-87bb-445e-8ae7-21fa3ca6f614",
   "metadata": {},
   "outputs": [
    {
     "data": {
      "image/png": "[encoded data removed]",
      "text/plain": [
       "<Figure size 720x360 with 1 Axes>"
      ]
     },
     "metadata": {
      "needs_background": "light"
     },
     "output_type": "display_data"
    }
   ],
   "source": [
    "# feature importance plot\n",
    "fig, ax = plt.subplots(figsize=(10,5))\n",
    "label = ax.bar(importance_matrix.index, importance_matrix.round(2), zorder=2)\n",
    "ax.bar_label(label, padding=5)\n",
    "ax.set_xticks(importance_matrix.index, importance_matrix.index, rotation=45)\n",
    "ax.set_ylim(top=1.05)\n",
    "ax.set_ylabel('Ganho absoluto')\n",
    "ax.grid(axis='y', linestyle=':', zorder=1)\n",
    "ax.set_title('Feature importance plot')\n",
    "plt.show()"
   ]
  },
  {
   "cell_type": "markdown",
   "id": "2eefebf6-f83d-4e1b-9b5f-82be9f9ebe0e",
   "metadata": {},
   "source": [
    "### c) Diagnósticos"
   ]
  },
  {
   "cell_type": "code",
   "execution_count": 9,
   "id": "356221dd-75bc-4ba6-9c77-4640f27f7b67",
   "metadata": {},
   "outputs": [],
   "source": [
    "def plot_diagnosticos(model, title, resid, lags = 15):\n",
    "    fig, ax = plt.subplots(2, 2, figsize=(15,10))\n",
    "\n",
    "    ax[0][0].set_title(f'Q-Q plot dos resíduos padronizados')\n",
    "    sm.qqplot(resid[model], ax=ax[0][0], line='45')\n",
    "    \n",
    "    ax[0][1].set_title(f'Histograma dos resíduos padronizados')\n",
    "    ax[0][1].hist(resid[model])\n",
    "    \n",
    "    plot_acf(resid[model],lags=lags, ax=ax[1][0], title=f'FAC dos resíduos padronizados')\n",
    "    ax[1][0].set_xticks(np.arange(lags+1))\n",
    "    ax[1][0].set_xticklabels(np.arange(lags+1))\n",
    "    \n",
    "    plot_acf(resid[model].pow(2),lags=lags, ax=ax[1][1], title=f'FAC dos resíduos quadráticos')\n",
    "    ax[1][1].set_xticks(np.arange(lags+1))\n",
    "    ax[1][1].set_xticklabels(np.arange(lags+1))\n",
    "    \n",
    "    plt.suptitle(title)\n",
    "    fig.tight_layout()\n",
    "    plt.show()"
   ]
  },
  {
   "cell_type": "code",
   "execution_count": 10,
   "id": "1bc582e1-56d9-4c9e-a4fb-1521db83fd76",
   "metadata": {},
   "outputs": [],
   "source": [
    "def calcula_diagnosticos(models, resid):\n",
    "    # tabela de diagnósticos\n",
    "    metrics = {\n",
    "        'Normalidade':['Assimetria','Curtose','Jarque-Bera','Q-Q plot'],\n",
    "        'Autocorrelação nula': ['FAC', 'Ljung-Box'],\n",
    "        'Homocedasticidade': ['FAC resid2', 'ARCH', 'Teste H']\n",
    "    }\n",
    "    df_diagnostics = pd.DataFrame(columns=['Modelo','Hipótese nula','Métrica','Resultado'])\n",
    "    for model in models:\n",
    "        for hipotesis in ['Normalidade','Autocorrelação nula','Homocedasticidade']:\n",
    "            for metric in metrics[hipotesis]:\n",
    "                df_diagnostics.loc[df_diagnostics.shape[0]] = [model, hipotesis, metric, None]\n",
    "    \n",
    "    df_diagnostics.set_index(['Modelo','Hipótese nula','Métrica'], inplace=True)\n",
    "    \n",
    "    # cálculo das métricas\n",
    "    for model in models:\n",
    "        # coeficientes de assimetria e curtose\n",
    "        df_diagnostics.at[(model,'Normalidade','Assimetria'),'Resultado'] = 'Coeficiente: {:.2f}'.format(resid[model].skew())\n",
    "        df_diagnostics.at[(model,'Normalidade','Curtose'),'Resultado'] = 'Coeficiente: {:.2f}'.format(resid[model].kurtosis()+3)\n",
    "        # teste de jarque-bera\n",
    "        jb_result = jarque_bera(resid[model])\n",
    "        df_diagnostics.at[(model,'Normalidade','Jarque-Bera'),'Resultado'] = 'Estatística: {:.1f}, p-valor: {:.2f}'.format(jb_result[0], jb_result[1])\n",
    "        df_diagnostics.at[(model,'Normalidade','Q-Q plot'),'Resultado'] = 'Gráfico'\n",
    "        # teste de ljung-box\n",
    "        lb = acorr_ljungbox(resid[model], lags=[20])\n",
    "        df_diagnostics.at[(model,'Autocorrelação nula','Ljung-Box'),'Resultado'] = 'Estatística: {:.1f}, p-valor: {:.2f}'.format(lb.loc[20,'lb_stat'], lb.loc[20,'lb_pvalue'])\n",
    "        df_diagnostics.at[(model,'Autocorrelação nula','FAC'),'Resultado'] = 'Gráfico'\n",
    "        df_diagnostics.at[(model,'Homocedasticidade','FAC resid2'),'Resultado'] = 'Gráfico'\n",
    "        # teste ARCH\n",
    "        arch_result = het_arch(resid[model])\n",
    "        df_diagnostics.at[(model,'Homocedasticidade','ARCH'),'Resultado'] = 'Estatística: {:.1f}, p-valor: {:.2f}'.format(arch_result[0], arch_result[1])\n",
    "        # teste H\n",
    "        H_result = breakvar_heteroskedasticity_test(resid[model], subset_length=1/3)\n",
    "        df_diagnostics.at[(model,'Homocedasticidade','Teste H'),'Resultado'] = 'Estatística: {:.1f}, p-valor: {:.2f}'.format(H_result[0], H_result[1])\n",
    "    \n",
    "    return df_diagnostics"
   ]
  },
  {
   "cell_type": "markdown",
   "id": "eafdd88f-4047-473c-abad-afcdd08fb195",
   "metadata": {},
   "source": [
    "#### (i) SARIMA\n",
    "\n",
    "Os testes de normalidade indicam que o resíduo não é normal. Apesar de os coeficientes de assimetria e de curtose não serem tão distantes de 0 e 3, a assimetria é um pouco negativa e a curtose, menor que 3. Esses valores indicam que a distribuição dos resíduos possui cauda maior que a distribuição normal, principalmente na esquerda. Esse resultado é confirmado pelo teste de Jarque Bera, que rejeita com grau de significancia de 5% (pvalor<0.05) a hipótese nula de os resíduos serem normais, e pelo Q-Q plot, que ilustra as diferenças das distribuições nos valores de cauda.\n",
    "\n",
    "Já os testes de autocorrelação nula indicam que o resíduo não é autocorrelatado. No gráfico da FAC não há nenhum valor significativo, enquanto o teste de Ljung-Box falha com grau de significância de 5% (pvalor.0.05) em rejeitar a hipótese nula de que o resíduo não é autocorrelatado.\n",
    "\n",
    "Por fim, os testes de homocedasticidade indicam que os resíduos não possuem variância constante. No gráfico da FAC dos resíduos quadráticos, existe uma autocorrelação significativa no primeiro lag. No mesmo sentido, os testes ARCH e H rejeitam com grau de significância de 5%, a hipótese nula dos resíduos serem homocedásticos."
   ]
  },
  {
   "cell_type": "code",
   "execution_count": 11,
   "id": "dd0ce03e-4808-4e01-9fe0-62afdf5b8d0e",
   "metadata": {},
   "outputs": [
    {
     "data": {
      "image/png": "[encoded data removed]",
      "text/plain": [
       "<Figure size 1080x720 with 4 Axes>"
      ]
     },
     "metadata": {
      "needs_background": "light"
     },
     "output_type": "display_data"
    }
   ],
   "source": [
    "plot_diagnosticos('SARIMA', 'Diagnóstico SARIMA', resid)"
   ]
  },
  {
   "cell_type": "code",
   "execution_count": 12,
   "id": "7714757c-a2a8-48e6-bf75-c42d7d5d5804",
   "metadata": {},
   "outputs": [
    {
     "data": {
      "text/html": [
       "<div>\n",
       "<style scoped>\n",
       "    .dataframe tbody tr th:only-of-type {\n",
       "        vertical-align: middle;\n",
       "    }\n",
       "\n",
       "    .dataframe tbody tr th {\n",
       "        vertical-align: top;\n",
       "    }\n",
       "\n",
       "    .dataframe thead th {\n",
       "        text-align: right;\n",
       "    }\n",
       "</style>\n",
       "<table border=\"1\" class=\"dataframe\">\n",
       "  <thead>\n",
       "    <tr style=\"text-align: right;\">\n",
       "      <th></th>\n",
       "      <th></th>\n",
       "      <th></th>\n",
       "      <th>Resultado</th>\n",
       "    </tr>\n",
       "    <tr>\n",
       "      <th>Modelo</th>\n",
       "      <th>Hipótese nula</th>\n",
       "      <th>Métrica</th>\n",
       "      <th></th>\n",
       "    </tr>\n",
       "  </thead>\n",
       "  <tbody>\n",
       "    <tr>\n",
       "      <th rowspan=\"9\" valign=\"top\">SARIMA</th>\n",
       "      <th rowspan=\"4\" valign=\"top\">Normalidade</th>\n",
       "      <th>Assimetria</th>\n",
       "      <td>Coeficiente: -0.05</td>\n",
       "    </tr>\n",
       "    <tr>\n",
       "      <th>Curtose</th>\n",
       "      <td>Coeficiente: 5.39</td>\n",
       "    </tr>\n",
       "    <tr>\n",
       "      <th>Jarque-Bera</th>\n",
       "      <td>Estatística: 69.7, p-valor: 0.00</td>\n",
       "    </tr>\n",
       "    <tr>\n",
       "      <th>Q-Q plot</th>\n",
       "      <td>Gráfico</td>\n",
       "    </tr>\n",
       "    <tr>\n",
       "      <th rowspan=\"2\" valign=\"top\">Autocorrelação nula</th>\n",
       "      <th>FAC</th>\n",
       "      <td>Gráfico</td>\n",
       "    </tr>\n",
       "    <tr>\n",
       "      <th>Ljung-Box</th>\n",
       "      <td>Estatística: 23.2, p-valor: 0.28</td>\n",
       "    </tr>\n",
       "    <tr>\n",
       "      <th rowspan=\"3\" valign=\"top\">Homocedasticidade</th>\n",
       "      <th>FAC resid2</th>\n",
       "      <td>Gráfico</td>\n",
       "    </tr>\n",
       "    <tr>\n",
       "      <th>ARCH</th>\n",
       "      <td>Estatística: 37.3, p-valor: 0.00</td>\n",
       "    </tr>\n",
       "    <tr>\n",
       "      <th>Teste H</th>\n",
       "      <td>Estatística: 1.5, p-valor: 0.04</td>\n",
       "    </tr>\n",
       "  </tbody>\n",
       "</table>\n",
       "</div>"
      ],
      "text/plain": [
       "                                                               Resultado\n",
       "Modelo Hipótese nula       Métrica                                      \n",
       "SARIMA Normalidade         Assimetria                 Coeficiente: -0.05\n",
       "                           Curtose                     Coeficiente: 5.39\n",
       "                           Jarque-Bera  Estatística: 69.7, p-valor: 0.00\n",
       "                           Q-Q plot                              Gráfico\n",
       "       Autocorrelação nula FAC                                   Gráfico\n",
       "                           Ljung-Box    Estatística: 23.2, p-valor: 0.28\n",
       "       Homocedasticidade   FAC resid2                            Gráfico\n",
       "                           ARCH         Estatística: 37.3, p-valor: 0.00\n",
       "                           Teste H       Estatística: 1.5, p-valor: 0.04"
      ]
     },
     "execution_count": 12,
     "metadata": {},
     "output_type": "execute_result"
    }
   ],
   "source": [
    "calcula_diagnosticos(['SARIMA'], resid)"
   ]
  },
  {
   "cell_type": "markdown",
   "id": "05d5a36a-da86-46a4-b150-c5654d22695d",
   "metadata": {},
   "source": [
    "#### (ii) XGBoost\n",
    "O resultado dos testes de normalidade para o momdelo XGBoost, assim como para o modelo SARIMA, indica que o resíduo não possui distruição normal. Este resultado é observado nos coeficientes de assimetria e curtose, que são diferentes de zero e três, na rejeição da hipótese nula de normalidade do teste de Jarque-Bera e nos gráficos. O histograma e o Q-Q plot indicam que o excesso de curtose e a assimetria podem ser explicados por observações aberrantes na cauda esquerda.\n",
    "\n",
    "Assim como no modelo SARIMA, o resultado dos testes de autocorrelação nula indicam que o modelo XGBoost não possui resíduos autocorrelatados. Esse resultado é reforçado pela aceitação da hipótese nula do teste de Ljung-Box, e pelos valores baixos no gráfico da FAC. No entanto, a FAC dos resíduos desse modelo apresenta uma pequena autocorrelação no lag sazonal 12, o que indica que esse modelo não capturou perfeitamente a sazonalidade.\n",
    "\n",
    "Por fim, o modelo XGBoost apresentou resultados melhores nos testes de homocedasticidade. Ao contrário do que ocorre no modelo SARIMA, a hipótese nula de variância constante foi aceita nos testes ARCH e H, e a FAC dos resíduos quadráticos não apresentou valores significativos nos lags."
   ]
  },
  {
   "cell_type": "code",
   "execution_count": 447,
   "id": "7eabca9d-4b2a-4494-b739-4fce95767b80",
   "metadata": {},
   "outputs": [
    {
     "data": {
      "image/png": "[encoded data removed]",
      "text/plain": [
       "<Figure size 1080x720 with 4 Axes>"
      ]
     },
     "metadata": {
      "needs_background": "light"
     },
     "output_type": "display_data"
    }
   ],
   "source": [
    "plot_diagnosticos('XGBoost', 'Diagnóstico XGBoost', resid.dropna())"
   ]
  },
  {
   "cell_type": "code",
   "execution_count": 448,
   "id": "bcee1fce-ce8f-4ed0-ac40-7a9e1c5b396c",
   "metadata": {},
   "outputs": [
    {
     "data": {
      "text/html": [
       "<div>\n",
       "<style scoped>\n",
       "    .dataframe tbody tr th:only-of-type {\n",
       "        vertical-align: middle;\n",
       "    }\n",
       "\n",
       "    .dataframe tbody tr th {\n",
       "        vertical-align: top;\n",
       "    }\n",
       "\n",
       "    .dataframe thead th {\n",
       "        text-align: right;\n",
       "    }\n",
       "</style>\n",
       "<table border=\"1\" class=\"dataframe\">\n",
       "  <thead>\n",
       "    <tr style=\"text-align: right;\">\n",
       "      <th></th>\n",
       "      <th></th>\n",
       "      <th></th>\n",
       "      <th>Resultado</th>\n",
       "    </tr>\n",
       "    <tr>\n",
       "      <th>Modelo</th>\n",
       "      <th>Hipótese nula</th>\n",
       "      <th>Métrica</th>\n",
       "      <th></th>\n",
       "    </tr>\n",
       "  </thead>\n",
       "  <tbody>\n",
       "    <tr>\n",
       "      <th rowspan=\"9\" valign=\"top\">XGBoost</th>\n",
       "      <th rowspan=\"4\" valign=\"top\">Normalidade</th>\n",
       "      <th>Assimetria</th>\n",
       "      <td>Coeficiente: -0.25</td>\n",
       "    </tr>\n",
       "    <tr>\n",
       "      <th>Curtose</th>\n",
       "      <td>Coeficiente: 4.58</td>\n",
       "    </tr>\n",
       "    <tr>\n",
       "      <th>Jarque-Bera</th>\n",
       "      <td>Estatística: 31.7, p-valor: 0.00</td>\n",
       "    </tr>\n",
       "    <tr>\n",
       "      <th>Q-Q plot</th>\n",
       "      <td>Gráfico</td>\n",
       "    </tr>\n",
       "    <tr>\n",
       "      <th rowspan=\"2\" valign=\"top\">Autocorrelação nula</th>\n",
       "      <th>FAC</th>\n",
       "      <td>Gráfico</td>\n",
       "    </tr>\n",
       "    <tr>\n",
       "      <th>Ljung-Box</th>\n",
       "      <td>Estatística: 22.4, p-valor: 0.32</td>\n",
       "    </tr>\n",
       "    <tr>\n",
       "      <th rowspan=\"3\" valign=\"top\">Homocedasticidade</th>\n",
       "      <th>FAC resid2</th>\n",
       "      <td>Gráfico</td>\n",
       "    </tr>\n",
       "    <tr>\n",
       "      <th>ARCH</th>\n",
       "      <td>Estatística: 8.3, p-valor: 0.60</td>\n",
       "    </tr>\n",
       "    <tr>\n",
       "      <th>Teste H</th>\n",
       "      <td>Estatística: 0.8, p-valor: 0.23</td>\n",
       "    </tr>\n",
       "  </tbody>\n",
       "</table>\n",
       "</div>"
      ],
      "text/plain": [
       "                                                                Resultado\n",
       "Modelo  Hipótese nula       Métrica                                      \n",
       "XGBoost Normalidade         Assimetria                 Coeficiente: -0.25\n",
       "                            Curtose                     Coeficiente: 4.58\n",
       "                            Jarque-Bera  Estatística: 31.7, p-valor: 0.00\n",
       "                            Q-Q plot                              Gráfico\n",
       "        Autocorrelação nula FAC                                   Gráfico\n",
       "                            Ljung-Box    Estatística: 22.4, p-valor: 0.32\n",
       "        Homocedasticidade   FAC resid2                            Gráfico\n",
       "                            ARCH          Estatística: 8.3, p-valor: 0.60\n",
       "                            Teste H       Estatística: 0.8, p-valor: 0.23"
      ]
     },
     "execution_count": 448,
     "metadata": {},
     "output_type": "execute_result"
    }
   ],
   "source": [
    "calcula_diagnosticos(['XGBoost'], resid.dropna())"
   ]
  },
  {
   "cell_type": "markdown",
   "id": "56848f1e-cdb0-44fe-8bdc-85d137846d54",
   "metadata": {},
   "source": [
    "### d) Previsão 12 passos a frente"
   ]
  },
  {
   "cell_type": "code",
   "execution_count": 99,
   "id": "88bc5a67-8595-41a9-8b3c-218f0de48ae4",
   "metadata": {},
   "outputs": [],
   "source": [
    "def calculate_metrics(model_name, y_true, y_pred):\n",
    "    # df_predictions[model_name] = y_pred \n",
    "    resid = y_true.sub(y_pred)\n",
    "    mape = y_true.sub(y_pred).abs().div(y_true).mean()\n",
    "    smape = y_true.sub(y_pred).abs().div(\n",
    "        y_true.add(y_pred).div(2)\n",
    "    ).mean()\n",
    "    mase = y_true.sub(y_pred).abs().mean()/(\n",
    "        series_train['value'].sub(series_train['value'].shift()).abs().mean() # naive calculado insample\n",
    "    )\n",
    "    return model_name, resid.pow(2).sum()**0.5, resid.abs().mean(), 100*mape, 100*smape, mase"
   ]
  },
  {
   "cell_type": "markdown",
   "id": "2ff818bc-febe-4b8a-bc83-247f3cb3b0b6",
   "metadata": {
    "jp-MarkdownHeadingCollapsed": true
   },
   "source": [
    "#### (i) SARIMA\n",
    "Foram identificados três outliers no modelo SARIMA, utilizando o treshold de 3.5 nos resíduos padronizados. O primeiro acontece em Agosto de 2008, devido uma desaceleração da compra de fertilizantes frente à crise financeira desse ano. Já os dois últimos acontecem em Junho e Julho de 2014. Segundo notícias da época, houve uma mudança na participação da Petrobras na produção de fertilizantes, que impactou nas vendas desse período."
   ]
  },
  {
   "cell_type": "code",
   "execution_count": 191,
   "id": "0e69d7a3-811f-4537-af73-a15161dae841",
   "metadata": {},
   "outputs": [
    {
     "data": {
      "text/html": [
       "<div>\n",
       "<style scoped>\n",
       "    .dataframe tbody tr th:only-of-type {\n",
       "        vertical-align: middle;\n",
       "    }\n",
       "\n",
       "    .dataframe tbody tr th {\n",
       "        vertical-align: top;\n",
       "    }\n",
       "\n",
       "    .dataframe thead th {\n",
       "        text-align: right;\n",
       "    }\n",
       "</style>\n",
       "<table border=\"1\" class=\"dataframe\">\n",
       "  <thead>\n",
       "    <tr style=\"text-align: right;\">\n",
       "      <th></th>\n",
       "      <th>Outliers SARIMA</th>\n",
       "    </tr>\n",
       "    <tr>\n",
       "      <th>date</th>\n",
       "      <th></th>\n",
       "    </tr>\n",
       "  </thead>\n",
       "  <tbody>\n",
       "    <tr>\n",
       "      <th>2008-08-01</th>\n",
       "      <td>-3.505506</td>\n",
       "    </tr>\n",
       "    <tr>\n",
       "      <th>2014-06-01</th>\n",
       "      <td>-4.382874</td>\n",
       "    </tr>\n",
       "    <tr>\n",
       "      <th>2014-07-01</th>\n",
       "      <td>3.934063</td>\n",
       "    </tr>\n",
       "  </tbody>\n",
       "</table>\n",
       "</div>"
      ],
      "text/plain": [
       "           Outliers SARIMA\n",
       "date                      \n",
       "2008-08-01       -3.505506\n",
       "2014-06-01       -4.382874\n",
       "2014-07-01        3.934063"
      ]
     },
     "execution_count": 191,
     "metadata": {},
     "output_type": "execute_result"
    }
   ],
   "source": [
    "outliers_sarima = resid['SARIMA'].where(lambda x: abs(x)>3.5).dropna().to_frame('Outliers SARIMA')\n",
    "outliers_sarima"
   ]
  },
  {
   "cell_type": "code",
   "execution_count": 183,
   "id": "e2e26987-e5df-43c0-9f76-ab5343726317",
   "metadata": {},
   "outputs": [
    {
     "data": {
      "text/html": [
       "<div>\n",
       "<style scoped>\n",
       "    .dataframe tbody tr th:only-of-type {\n",
       "        vertical-align: middle;\n",
       "    }\n",
       "\n",
       "    .dataframe tbody tr th {\n",
       "        vertical-align: top;\n",
       "    }\n",
       "\n",
       "    .dataframe thead th {\n",
       "        text-align: right;\n",
       "    }\n",
       "</style>\n",
       "<table border=\"1\" class=\"dataframe\">\n",
       "  <thead>\n",
       "    <tr style=\"text-align: right;\">\n",
       "      <th></th>\n",
       "      <th>model</th>\n",
       "      <th>RMSE</th>\n",
       "      <th>MAD</th>\n",
       "      <th>MAPE</th>\n",
       "      <th>SMape</th>\n",
       "      <th>MASE</th>\n",
       "    </tr>\n",
       "  </thead>\n",
       "  <tbody>\n",
       "    <tr>\n",
       "      <th>0</th>\n",
       "      <td>naive1</td>\n",
       "      <td>4.1941</td>\n",
       "      <td>0.9810</td>\n",
       "      <td>33.7351</td>\n",
       "      <td>25.9715</td>\n",
       "      <td>2.5053</td>\n",
       "    </tr>\n",
       "    <tr>\n",
       "      <th>1</th>\n",
       "      <td>naive2</td>\n",
       "      <td>1.8929</td>\n",
       "      <td>0.4031</td>\n",
       "      <td>9.8661</td>\n",
       "      <td>10.3159</td>\n",
       "      <td>1.0296</td>\n",
       "    </tr>\n",
       "    <tr>\n",
       "      <th>2</th>\n",
       "      <td>melhor modelo ETS</td>\n",
       "      <td>1.4164</td>\n",
       "      <td>0.3159</td>\n",
       "      <td>10.3434</td>\n",
       "      <td>9.5176</td>\n",
       "      <td>0.8069</td>\n",
       "    </tr>\n",
       "    <tr>\n",
       "      <th>3</th>\n",
       "      <td>SARIMA simples</td>\n",
       "      <td>1.1238</td>\n",
       "      <td>0.2446</td>\n",
       "      <td>7.5876</td>\n",
       "      <td>7.2373</td>\n",
       "      <td>0.6247</td>\n",
       "    </tr>\n",
       "  </tbody>\n",
       "</table>\n",
       "</div>"
      ],
      "text/plain": [
       "               model    RMSE     MAD     MAPE    SMape    MASE\n",
       "0             naive1  4.1941  0.9810  33.7351  25.9715  2.5053\n",
       "1             naive2  1.8929  0.4031   9.8661  10.3159  1.0296\n",
       "2  melhor modelo ETS  1.4164  0.3159  10.3434   9.5176  0.8069\n",
       "3     SARIMA simples  1.1238  0.2446   7.5876   7.2373  0.6247"
      ]
     },
     "execution_count": 183,
     "metadata": {},
     "output_type": "execute_result"
    }
   ],
   "source": [
    "df_metrics_test = pd.DataFrame(columns=['model','RMSE','MAD','MAPE','SMape','MASE'])\n",
    "\n",
    "# naive predictions\n",
    "predictions = {\n",
    "    'naive1': [series_train['value'].iloc[-1]]*12, # ultima observação de treino da ST\n",
    "    'naive2': series_train['value'].iloc[-12:].values # última observação de treino da ST para cada horizonte (12 meses)\n",
    "}\n",
    "for model, pred in predictions.items():\n",
    "    df_metrics_test.loc[df_metrics_test.shape[0]] = [*calculate_metrics(model, series_test['value'], pred)]\n",
    "\n",
    "# melhor modelo ETS\n",
    "best_model_ets = ETSModel(series_train['value'],  error='add', trend='add', seasonal='add', \n",
    "            damped_trend=True, seasonal_periods=12,freq='M', dates=series_train.index.to_period('M'))\n",
    "best_fit_ets = best_model_ets.fit()\n",
    "df_metrics_test.loc[df_metrics_test.shape[0]] = [*calculate_metrics('melhor modelo ETS', series_test['value'], best_fit_ets.forecast(12).values)]\n",
    "\n",
    "# modelo SARIMA\n",
    "df_metrics_test.loc[df_metrics_test.shape[0]] = [*calculate_metrics('SARIMA simples', series_test['value'], arima.predict(12).values)]\n",
    "\n",
    "df_metrics_test.round(4)"
   ]
  },
  {
   "cell_type": "markdown",
   "id": "396cdab5-b06a-4ba8-90a0-392aa89f1105",
   "metadata": {},
   "source": [
    "#### (ii) XGBoost\n",
    "\n",
    "O único outlier identificado no modelo XGBoost, utilizando o threshold de 3.5 para o resíduo padronizado, foi na observação de Setembro/2001. Apesar de ter menos outliers, esse modelo apresentou métricas de aderência piores que o SARIMA fora da amostra, o que poderia indicar um overfit no período de treinamento."
   ]
  },
  {
   "cell_type": "code",
   "execution_count": 543,
   "id": "f8f0db85-7a30-4a3d-a63f-80bc09919c88",
   "metadata": {},
   "outputs": [
    {
     "data": {
      "text/html": [
       "<div>\n",
       "<style scoped>\n",
       "    .dataframe tbody tr th:only-of-type {\n",
       "        vertical-align: middle;\n",
       "    }\n",
       "\n",
       "    .dataframe tbody tr th {\n",
       "        vertical-align: top;\n",
       "    }\n",
       "\n",
       "    .dataframe thead th {\n",
       "        text-align: right;\n",
       "    }\n",
       "</style>\n",
       "<table border=\"1\" class=\"dataframe\">\n",
       "  <thead>\n",
       "    <tr style=\"text-align: right;\">\n",
       "      <th></th>\n",
       "      <th>Outliers XGBoost</th>\n",
       "    </tr>\n",
       "    <tr>\n",
       "      <th>date</th>\n",
       "      <th></th>\n",
       "    </tr>\n",
       "  </thead>\n",
       "  <tbody>\n",
       "    <tr>\n",
       "      <th>2001-09-01</th>\n",
       "      <td>-3.819176</td>\n",
       "    </tr>\n",
       "  </tbody>\n",
       "</table>\n",
       "</div>"
      ],
      "text/plain": [
       "            Outliers XGBoost\n",
       "date                        \n",
       "2001-09-01         -3.819176"
      ]
     },
     "execution_count": 543,
     "metadata": {},
     "output_type": "execute_result"
    }
   ],
   "source": [
    "outliers_xgb = resid['XGBoost'].where(lambda x: abs(x)>3.5).dropna().to_frame('Outliers XGBoost')\n",
    "outliers_xgb"
   ]
  },
  {
   "cell_type": "code",
   "execution_count": 536,
   "id": "debc527d-c85e-4c23-98db-8e12b8332d33",
   "metadata": {},
   "outputs": [],
   "source": [
    "# ajuste dos dados indisponíveis no período de teste\n",
    "for i in range(1,13):\n",
    "    features_xgboost_test.iloc[i:].loc[:,f'lag_{i}'] = np.nan\n",
    "features_xgboost_test.iloc[1:].loc[:,['ma3m','ma6m','ma12m']] = np.nan\n",
    "\n",
    "series_diff.loc[series_diff_test.index, 'value'] = np.nan\n",
    "y_pred = pd.Series(index=features_xgboost_test.index)\n",
    "\n",
    "# loop de previsões\n",
    "for date in features_xgboost_test.index:\n",
    "    # preenche lags\n",
    "    for i in range(1,13):\n",
    "        features_xgboost.at[date, f'lag_{i}'] = series_diff.shift(i).loc[date,'value']\n",
    "\n",
    "    # preenche médias móveis\n",
    "    features_xgboost_test.at[date,'ma3m'] = series_diff.rolling(3, closed='left').mean().loc[date,'value']\n",
    "    features_xgboost_test.at[date,'ma6m'] = series_diff.rolling(6, closed='left').mean().loc[date,'value']\n",
    "    features_xgboost_test.at[date,'ma12m'] = series_diff.rolling(12, closed='left').mean().loc[date,'value']\n",
    "    \n",
    "    # faz previsão do diff para a data\n",
    "    y_pred[date] = xgboost.predict(features_xgboost_test.loc[[date]])[0]\n",
    "    series_diff.at[date,'value'] = y_pred[date]\n",
    "\n",
    "# cálculo das previsões para a escala orginal\n",
    "predictions = y_pred.to_frame('diff').join(\n",
    "    pd.concat([series_train.iloc[[-1],0], y_pred]).cumsum().to_frame('level')\n",
    ")"
   ]
  },
  {
   "cell_type": "code",
   "execution_count": 537,
   "id": "6797761c-3abe-4e86-b850-8dbe113ae0e5",
   "metadata": {},
   "outputs": [
    {
     "data": {
      "text/html": [
       "<div>\n",
       "<style scoped>\n",
       "    .dataframe tbody tr th:only-of-type {\n",
       "        vertical-align: middle;\n",
       "    }\n",
       "\n",
       "    .dataframe tbody tr th {\n",
       "        vertical-align: top;\n",
       "    }\n",
       "\n",
       "    .dataframe thead th {\n",
       "        text-align: right;\n",
       "    }\n",
       "</style>\n",
       "<table border=\"1\" class=\"dataframe\">\n",
       "  <thead>\n",
       "    <tr style=\"text-align: right;\">\n",
       "      <th></th>\n",
       "      <th>model</th>\n",
       "      <th>RMSE</th>\n",
       "      <th>MAD</th>\n",
       "      <th>MAPE</th>\n",
       "      <th>SMape</th>\n",
       "      <th>MASE</th>\n",
       "    </tr>\n",
       "  </thead>\n",
       "  <tbody>\n",
       "    <tr>\n",
       "      <th>0</th>\n",
       "      <td>naive1</td>\n",
       "      <td>4.1941</td>\n",
       "      <td>0.9810</td>\n",
       "      <td>33.7351</td>\n",
       "      <td>25.9715</td>\n",
       "      <td>2.5053</td>\n",
       "    </tr>\n",
       "    <tr>\n",
       "      <th>1</th>\n",
       "      <td>naive2</td>\n",
       "      <td>1.8929</td>\n",
       "      <td>0.4031</td>\n",
       "      <td>9.8661</td>\n",
       "      <td>10.3159</td>\n",
       "      <td>1.0296</td>\n",
       "    </tr>\n",
       "    <tr>\n",
       "      <th>2</th>\n",
       "      <td>melhor modelo ETS</td>\n",
       "      <td>1.4164</td>\n",
       "      <td>0.3159</td>\n",
       "      <td>10.3434</td>\n",
       "      <td>9.5176</td>\n",
       "      <td>0.8069</td>\n",
       "    </tr>\n",
       "    <tr>\n",
       "      <th>3</th>\n",
       "      <td>SARIMA simples</td>\n",
       "      <td>1.1238</td>\n",
       "      <td>0.2446</td>\n",
       "      <td>7.5876</td>\n",
       "      <td>7.2373</td>\n",
       "      <td>0.6247</td>\n",
       "    </tr>\n",
       "    <tr>\n",
       "      <th>4</th>\n",
       "      <td>SARIMA com dummies</td>\n",
       "      <td>1.2337</td>\n",
       "      <td>0.2751</td>\n",
       "      <td>8.5534</td>\n",
       "      <td>8.0922</td>\n",
       "      <td>0.7026</td>\n",
       "    </tr>\n",
       "    <tr>\n",
       "      <th>5</th>\n",
       "      <td>SARIMA log com dummies</td>\n",
       "      <td>1.1976</td>\n",
       "      <td>0.2529</td>\n",
       "      <td>8.0646</td>\n",
       "      <td>7.5115</td>\n",
       "      <td>0.6459</td>\n",
       "    </tr>\n",
       "    <tr>\n",
       "      <th>6</th>\n",
       "      <td>XGBoost</td>\n",
       "      <td>1.1753</td>\n",
       "      <td>0.2864</td>\n",
       "      <td>9.0653</td>\n",
       "      <td>8.4758</td>\n",
       "      <td>0.7315</td>\n",
       "    </tr>\n",
       "  </tbody>\n",
       "</table>\n",
       "</div>"
      ],
      "text/plain": [
       "                    model    RMSE     MAD     MAPE    SMape    MASE\n",
       "0                  naive1  4.1941  0.9810  33.7351  25.9715  2.5053\n",
       "1                  naive2  1.8929  0.4031   9.8661  10.3159  1.0296\n",
       "2       melhor modelo ETS  1.4164  0.3159  10.3434   9.5176  0.8069\n",
       "3          SARIMA simples  1.1238  0.2446   7.5876   7.2373  0.6247\n",
       "4      SARIMA com dummies  1.2337  0.2751   8.5534   8.0922  0.7026\n",
       "5  SARIMA log com dummies  1.1976  0.2529   8.0646   7.5115  0.6459\n",
       "6                 XGBoost  1.1753  0.2864   9.0653   8.4758  0.7315"
      ]
     },
     "execution_count": 537,
     "metadata": {},
     "output_type": "execute_result"
    }
   ],
   "source": [
    "# métricas de aderência\n",
    "df_metrics_test.loc[df_metrics_test.shape[0]] = [\n",
    "    *calculate_metrics('XGBoost simples', series_test['value'], predictions['level'].values)\n",
    "]\n",
    "df_metrics_test.round(4)"
   ]
  },
  {
   "cell_type": "code",
   "execution_count": null,
   "id": "8af0a51c-b652-45f4-8364-9abd7941a293",
   "metadata": {},
   "outputs": [],
   "source": []
  },
  {
   "cell_type": "markdown",
   "id": "e2e55964-5f2f-4498-88e2-316c2a27c5e5",
   "metadata": {},
   "source": [
    "### e) Tratamento de outliers"
   ]
  },
  {
   "cell_type": "markdown",
   "id": "365bf1f0-177b-4c39-989c-4712e00c8299",
   "metadata": {},
   "source": [
    "#### (i) SARIMA  \n",
    "\n",
    "O novo modelo SARIMA estimado  é um SARIMAX(1,1,2)(1,0,1), com três dummies referentes a Ago/08, Jun/14 e Jul/14. Esse modelo possui as mesmas ordens p,d,q,P,D,Q do modelo inicial, e não houve necessidade de acrescentar outras ordens de defasagem nos termos AR e MA não sazonais, já que a FAC dos resíduos não mostrava valores significantes nesses lags.\n",
    "\n",
    "Com a adição das dummies de outliers, os valores de cauda nos gráficos de diagnóstico (Q-Q plot e histograma) se aproximaram do comportamento de uma normal. Consequentemente, os coeficientes de assimetria e curtose também se aproximaram de 0 e 3. No entando, os resultados obtidos dos testes estatísticos não mudaram, e ainda indicam que o erro não é normal e possui autocorrelação nula e heterocedasticidade.\n",
    "\n",
    "Apesar da pequena melhora no resultado do diagnóstico no período de treino, o modelo com dummies apresentou desempenho pior em todas as métricas de aderência do período de teste."
   ]
  },
  {
   "cell_type": "code",
   "execution_count": 169,
   "id": "5c2621cc-91ab-4261-9732-dc53202d01b2",
   "metadata": {},
   "outputs": [
    {
     "data": {
      "text/html": [
       "<div>\n",
       "<style scoped>\n",
       "    .dataframe tbody tr th:only-of-type {\n",
       "        vertical-align: middle;\n",
       "    }\n",
       "\n",
       "    .dataframe tbody tr th {\n",
       "        vertical-align: top;\n",
       "    }\n",
       "\n",
       "    .dataframe thead th {\n",
       "        text-align: right;\n",
       "    }\n",
       "</style>\n",
       "<table border=\"1\" class=\"dataframe\">\n",
       "  <thead>\n",
       "    <tr style=\"text-align: right;\">\n",
       "      <th></th>\n",
       "      <th>Aug/08</th>\n",
       "      <th>Jun/14</th>\n",
       "      <th>Jul/14</th>\n",
       "    </tr>\n",
       "    <tr>\n",
       "      <th>date</th>\n",
       "      <th></th>\n",
       "      <th></th>\n",
       "      <th></th>\n",
       "    </tr>\n",
       "  </thead>\n",
       "  <tbody>\n",
       "    <tr>\n",
       "      <th>2008-08-01</th>\n",
       "      <td>1</td>\n",
       "      <td>0</td>\n",
       "      <td>0</td>\n",
       "    </tr>\n",
       "    <tr>\n",
       "      <th>2014-06-01</th>\n",
       "      <td>0</td>\n",
       "      <td>1</td>\n",
       "      <td>0</td>\n",
       "    </tr>\n",
       "    <tr>\n",
       "      <th>2014-07-01</th>\n",
       "      <td>0</td>\n",
       "      <td>0</td>\n",
       "      <td>1</td>\n",
       "    </tr>\n",
       "  </tbody>\n",
       "</table>\n",
       "</div>"
      ],
      "text/plain": [
       "            Aug/08  Jun/14  Jul/14\n",
       "date                              \n",
       "2008-08-01       1       0       0\n",
       "2014-06-01       0       1       0\n",
       "2014-07-01       0       0       1"
      ]
     },
     "execution_count": 169,
     "metadata": {},
     "output_type": "execute_result"
    }
   ],
   "source": [
    "# criação das dummies\n",
    "dummies = pd.get_dummies(outliers_sarima.index, dtype=int).T\n",
    "dummies.columns = outliers_sarima.index.strftime('%b/%y').values\n",
    "dummies = dummies.reindex(series.index, fill_value=0)\n",
    "dummies.loc[outliers_sarima.index]"
   ]
  },
  {
   "cell_type": "code",
   "execution_count": null,
   "id": "317c481f-9480-4045-b1b5-709af0649ac4",
   "metadata": {},
   "outputs": [],
   "source": [
    "# estimação do auto arima\n",
    "arima_improved = auto_arima(series_train, X=dummies.loc[series_train.index], seasonal=True, m=12, information_criteria='aicc', \n",
    "                   stepwise=False, error_action='ignore', trace=False)\n",
    "\n",
    "# resíduos\n",
    "resid_improved = pd.DataFrame(columns=['SARIMA dummies','XGBoost dummies'])\n",
    "resid_improved['SARIMA dummies'] = arima_improved.resid() \n",
    "\n",
    "# padronizando os resíduos\n",
    "resid_improved = resid_improved.sub(resid_improved.mean()).div(resid_improved.std())\n",
    "arima_improved"
   ]
  },
  {
   "cell_type": "code",
   "execution_count": 198,
   "id": "17a19c2d-6e62-4758-8461-a2ded8283d7c",
   "metadata": {},
   "outputs": [
    {
     "data": {
      "image/png": "[encoded data removed]",
      "text/plain": [
       "<Figure size 1080x720 with 4 Axes>"
      ]
     },
     "metadata": {
      "needs_background": "light"
     },
     "output_type": "display_data"
    }
   ],
   "source": [
    "plot_diagnosticos('SARIMA dummies', 'Diagnóstico SARIMA', resid_improved)"
   ]
  },
  {
   "cell_type": "code",
   "execution_count": 189,
   "id": "c7ffd507-d321-4ed2-b6a3-a9f87ba9e407",
   "metadata": {},
   "outputs": [
    {
     "data": {
      "text/html": [
       "<div>\n",
       "<style scoped>\n",
       "    .dataframe tbody tr th:only-of-type {\n",
       "        vertical-align: middle;\n",
       "    }\n",
       "\n",
       "    .dataframe tbody tr th {\n",
       "        vertical-align: top;\n",
       "    }\n",
       "\n",
       "    .dataframe thead th {\n",
       "        text-align: right;\n",
       "    }\n",
       "</style>\n",
       "<table border=\"1\" class=\"dataframe\">\n",
       "  <thead>\n",
       "    <tr style=\"text-align: right;\">\n",
       "      <th></th>\n",
       "      <th></th>\n",
       "      <th></th>\n",
       "      <th>Resultado</th>\n",
       "    </tr>\n",
       "    <tr>\n",
       "      <th>Modelo</th>\n",
       "      <th>Hipótese nula</th>\n",
       "      <th>Métrica</th>\n",
       "      <th></th>\n",
       "    </tr>\n",
       "  </thead>\n",
       "  <tbody>\n",
       "    <tr>\n",
       "      <th rowspan=\"9\" valign=\"top\">SARIMA dummies</th>\n",
       "      <th rowspan=\"4\" valign=\"top\">Normalidade</th>\n",
       "      <th>Assimetria</th>\n",
       "      <td>Coeficiente: -0.01</td>\n",
       "    </tr>\n",
       "    <tr>\n",
       "      <th>Curtose</th>\n",
       "      <td>Coeficiente: 3.85</td>\n",
       "    </tr>\n",
       "    <tr>\n",
       "      <th>Jarque-Bera</th>\n",
       "      <td>Estatística: 8.5, p-valor: 0.01</td>\n",
       "    </tr>\n",
       "    <tr>\n",
       "      <th>Q-Q plot</th>\n",
       "      <td>Gráfico</td>\n",
       "    </tr>\n",
       "    <tr>\n",
       "      <th rowspan=\"2\" valign=\"top\">Autocorrelação nula</th>\n",
       "      <th>FAC</th>\n",
       "      <td>Gráfico</td>\n",
       "    </tr>\n",
       "    <tr>\n",
       "      <th>Ljung-Box</th>\n",
       "      <td>Estatística: 29.1, p-valor: 0.09</td>\n",
       "    </tr>\n",
       "    <tr>\n",
       "      <th rowspan=\"3\" valign=\"top\">Homocedasticidade</th>\n",
       "      <th>FAC resid2</th>\n",
       "      <td>Gráfico</td>\n",
       "    </tr>\n",
       "    <tr>\n",
       "      <th>ARCH</th>\n",
       "      <td>Estatística: 21.4, p-valor: 0.02</td>\n",
       "    </tr>\n",
       "    <tr>\n",
       "      <th>Teste H</th>\n",
       "      <td>Estatística: 1.5, p-valor: 0.04</td>\n",
       "    </tr>\n",
       "  </tbody>\n",
       "</table>\n",
       "</div>"
      ],
      "text/plain": [
       "                                                                       Resultado\n",
       "Modelo         Hipótese nula       Métrica                                      \n",
       "SARIMA dummies Normalidade         Assimetria                 Coeficiente: -0.01\n",
       "                                   Curtose                     Coeficiente: 3.85\n",
       "                                   Jarque-Bera   Estatística: 8.5, p-valor: 0.01\n",
       "                                   Q-Q plot                              Gráfico\n",
       "               Autocorrelação nula FAC                                   Gráfico\n",
       "                                   Ljung-Box    Estatística: 29.1, p-valor: 0.09\n",
       "               Homocedasticidade   FAC resid2                            Gráfico\n",
       "                                   ARCH         Estatística: 21.4, p-valor: 0.02\n",
       "                                   Teste H       Estatística: 1.5, p-valor: 0.04"
      ]
     },
     "execution_count": 189,
     "metadata": {},
     "output_type": "execute_result"
    }
   ],
   "source": [
    "calcula_diagnosticos(['SARIMA dummies'], resid_improved)"
   ]
  },
  {
   "cell_type": "code",
   "execution_count": 184,
   "id": "bfaf07b5-1b41-406e-863a-184db20e4569",
   "metadata": {},
   "outputs": [
    {
     "data": {
      "text/html": [
       "<div>\n",
       "<style scoped>\n",
       "    .dataframe tbody tr th:only-of-type {\n",
       "        vertical-align: middle;\n",
       "    }\n",
       "\n",
       "    .dataframe tbody tr th {\n",
       "        vertical-align: top;\n",
       "    }\n",
       "\n",
       "    .dataframe thead th {\n",
       "        text-align: right;\n",
       "    }\n",
       "</style>\n",
       "<table border=\"1\" class=\"dataframe\">\n",
       "  <thead>\n",
       "    <tr style=\"text-align: right;\">\n",
       "      <th></th>\n",
       "      <th>model</th>\n",
       "      <th>RMSE</th>\n",
       "      <th>MAD</th>\n",
       "      <th>MAPE</th>\n",
       "      <th>SMape</th>\n",
       "      <th>MASE</th>\n",
       "    </tr>\n",
       "  </thead>\n",
       "  <tbody>\n",
       "    <tr>\n",
       "      <th>0</th>\n",
       "      <td>naive1</td>\n",
       "      <td>4.1941</td>\n",
       "      <td>0.9810</td>\n",
       "      <td>33.7351</td>\n",
       "      <td>25.9715</td>\n",
       "      <td>2.5053</td>\n",
       "    </tr>\n",
       "    <tr>\n",
       "      <th>1</th>\n",
       "      <td>naive2</td>\n",
       "      <td>1.8929</td>\n",
       "      <td>0.4031</td>\n",
       "      <td>9.8661</td>\n",
       "      <td>10.3159</td>\n",
       "      <td>1.0296</td>\n",
       "    </tr>\n",
       "    <tr>\n",
       "      <th>2</th>\n",
       "      <td>melhor modelo ETS</td>\n",
       "      <td>1.4164</td>\n",
       "      <td>0.3159</td>\n",
       "      <td>10.3434</td>\n",
       "      <td>9.5176</td>\n",
       "      <td>0.8069</td>\n",
       "    </tr>\n",
       "    <tr>\n",
       "      <th>3</th>\n",
       "      <td>SARIMA simples</td>\n",
       "      <td>1.1238</td>\n",
       "      <td>0.2446</td>\n",
       "      <td>7.5876</td>\n",
       "      <td>7.2373</td>\n",
       "      <td>0.6247</td>\n",
       "    </tr>\n",
       "    <tr>\n",
       "      <th>4</th>\n",
       "      <td>SARIMA com dummies</td>\n",
       "      <td>1.2337</td>\n",
       "      <td>0.2751</td>\n",
       "      <td>8.5534</td>\n",
       "      <td>8.0922</td>\n",
       "      <td>0.7026</td>\n",
       "    </tr>\n",
       "  </tbody>\n",
       "</table>\n",
       "</div>"
      ],
      "text/plain": [
       "                model    RMSE     MAD     MAPE    SMape    MASE\n",
       "0              naive1  4.1941  0.9810  33.7351  25.9715  2.5053\n",
       "1              naive2  1.8929  0.4031   9.8661  10.3159  1.0296\n",
       "2   melhor modelo ETS  1.4164  0.3159  10.3434   9.5176  0.8069\n",
       "3      SARIMA simples  1.1238  0.2446   7.5876   7.2373  0.6247\n",
       "4  SARIMA com dummies  1.2337  0.2751   8.5534   8.0922  0.7026"
      ]
     },
     "execution_count": 184,
     "metadata": {},
     "output_type": "execute_result"
    }
   ],
   "source": [
    "# modelo SARIMA\n",
    "df_metrics_test.loc[df_metrics_test.shape[0]] = [\n",
    "    *calculate_metrics('SARIMA com dummies', series_test['value'], arima_improved.predict(12, X=dummies.loc[series_test.index]).values)\n",
    "]\n",
    "df_metrics_test.iloc[-2:].round(4)"
   ]
  },
  {
   "cell_type": "code",
   "execution_count": 152,
   "id": "8ed549ef-abe0-42de-8a02-ddcfaa62826b",
   "metadata": {
    "collapsed": true,
    "jupyter": {
     "outputs_hidden": true
    }
   },
   "outputs": [
    {
     "data": {
      "text/html": [
       "<table class=\"simpletable\">\n",
       "<caption>SARIMAX Results</caption>\n",
       "<tr>\n",
       "  <th>Dep. Variable:</th>                   <td>y</td>                <th>  No. Observations:  </th>   <td>307</td> \n",
       "</tr>\n",
       "<tr>\n",
       "  <th>Model:</th>           <td>SARIMAX(1, 1, 2)x(1, 0, [1], 12)</td> <th>  Log Likelihood     </th> <td>-3.498</td>\n",
       "</tr>\n",
       "<tr>\n",
       "  <th>Date:</th>                    <td>Wed, 13 Nov 2024</td>         <th>  AIC                </th> <td>26.996</td>\n",
       "</tr>\n",
       "<tr>\n",
       "  <th>Time:</th>                        <td>17:17:01</td>             <th>  BIC                </th> <td>64.232</td>\n",
       "</tr>\n",
       "<tr>\n",
       "  <th>Sample:</th>                     <td>01-01-1998</td>            <th>  HQIC               </th> <td>41.888</td>\n",
       "</tr>\n",
       "<tr>\n",
       "  <th></th>                           <td>- 07-01-2023</td>           <th>                     </th>    <td> </td>  \n",
       "</tr>\n",
       "<tr>\n",
       "  <th>Covariance Type:</th>                <td>opg</td>               <th>                     </th>    <td> </td>  \n",
       "</tr>\n",
       "</table>\n",
       "<table class=\"simpletable\">\n",
       "<tr>\n",
       "      <td></td>         <th>coef</th>     <th>std err</th>      <th>z</th>      <th>P>|z|</th>  <th>[0.025</th>    <th>0.975]</th>  \n",
       "</tr>\n",
       "<tr>\n",
       "  <th>intercept</th> <td>    0.0001</td> <td>    0.000</td> <td>    0.361</td> <td> 0.718</td> <td>   -0.000</td> <td>    0.001</td>\n",
       "</tr>\n",
       "<tr>\n",
       "  <th>Aug/08</th>    <td>   -0.6454</td> <td>    0.083</td> <td>   -7.780</td> <td> 0.000</td> <td>   -0.808</td> <td>   -0.483</td>\n",
       "</tr>\n",
       "<tr>\n",
       "  <th>Jun/14</th>    <td>   -1.2275</td> <td>    0.318</td> <td>   -3.860</td> <td> 0.000</td> <td>   -1.851</td> <td>   -0.604</td>\n",
       "</tr>\n",
       "<tr>\n",
       "  <th>Jul/14</th>    <td>    0.4707</td> <td>    0.239</td> <td>    1.972</td> <td> 0.049</td> <td>    0.003</td> <td>    0.939</td>\n",
       "</tr>\n",
       "<tr>\n",
       "  <th>ar.L1</th>     <td>    0.5350</td> <td>    0.086</td> <td>    6.240</td> <td> 0.000</td> <td>    0.367</td> <td>    0.703</td>\n",
       "</tr>\n",
       "<tr>\n",
       "  <th>ma.L1</th>     <td>   -0.6352</td> <td>    0.103</td> <td>   -6.175</td> <td> 0.000</td> <td>   -0.837</td> <td>   -0.434</td>\n",
       "</tr>\n",
       "<tr>\n",
       "  <th>ma.L2</th>     <td>   -0.2595</td> <td>    0.070</td> <td>   -3.693</td> <td> 0.000</td> <td>   -0.397</td> <td>   -0.122</td>\n",
       "</tr>\n",
       "<tr>\n",
       "  <th>ar.S.L12</th>  <td>    0.9712</td> <td>    0.017</td> <td>   58.429</td> <td> 0.000</td> <td>    0.939</td> <td>    1.004</td>\n",
       "</tr>\n",
       "<tr>\n",
       "  <th>ma.S.L12</th>  <td>   -0.7056</td> <td>    0.068</td> <td>  -10.356</td> <td> 0.000</td> <td>   -0.839</td> <td>   -0.572</td>\n",
       "</tr>\n",
       "<tr>\n",
       "  <th>sigma2</th>    <td>    0.0558</td> <td>    0.004</td> <td>   13.128</td> <td> 0.000</td> <td>    0.048</td> <td>    0.064</td>\n",
       "</tr>\n",
       "</table>\n",
       "<table class=\"simpletable\">\n",
       "<tr>\n",
       "  <th>Ljung-Box (L1) (Q):</th>     <td>0.04</td> <th>  Jarque-Bera (JB):  </th> <td>9.49</td> \n",
       "</tr>\n",
       "<tr>\n",
       "  <th>Prob(Q):</th>                <td>0.85</td> <th>  Prob(JB):          </th> <td>0.01</td> \n",
       "</tr>\n",
       "<tr>\n",
       "  <th>Heteroskedasticity (H):</th> <td>2.05</td> <th>  Skew:              </th> <td>-0.14</td>\n",
       "</tr>\n",
       "<tr>\n",
       "  <th>Prob(H) (two-sided):</th>    <td>0.00</td> <th>  Kurtosis:          </th> <td>3.82</td> \n",
       "</tr>\n",
       "</table><br/><br/>Warnings:<br/>[1] Covariance matrix calculated using the outer product of gradients (complex-step)."
      ],
      "text/latex": [
       "\\begin{center}\n",
       "\\begin{tabular}{lclc}\n",
       "\\toprule\n",
       "\\textbf{Dep. Variable:}          &                y                 & \\textbf{  No. Observations:  } &    307      \\\\\n",
       "\\textbf{Model:}                  & SARIMAX(1, 1, 2)x(1, 0, [1], 12) & \\textbf{  Log Likelihood     } &   -3.498    \\\\\n",
       "\\textbf{Date:}                   &         Wed, 13 Nov 2024         & \\textbf{  AIC                } &   26.996    \\\\\n",
       "\\textbf{Time:}                   &             17:17:01             & \\textbf{  BIC                } &   64.232    \\\\\n",
       "\\textbf{Sample:}                 &            01-01-1998            & \\textbf{  HQIC               } &   41.888    \\\\\n",
       "\\textbf{}                        &           - 07-01-2023           & \\textbf{                     } &             \\\\\n",
       "\\textbf{Covariance Type:}        &               opg                & \\textbf{                     } &             \\\\\n",
       "\\bottomrule\n",
       "\\end{tabular}\n",
       "\\begin{tabular}{lcccccc}\n",
       "                   & \\textbf{coef} & \\textbf{std err} & \\textbf{z} & \\textbf{P$> |$z$|$} & \\textbf{[0.025} & \\textbf{0.975]}  \\\\\n",
       "\\midrule\n",
       "\\textbf{intercept} &       0.0001  &        0.000     &     0.361  &         0.718        &       -0.000    &        0.001     \\\\\n",
       "\\textbf{Aug/08}    &      -0.6454  &        0.083     &    -7.780  &         0.000        &       -0.808    &       -0.483     \\\\\n",
       "\\textbf{Jun/14}    &      -1.2275  &        0.318     &    -3.860  &         0.000        &       -1.851    &       -0.604     \\\\\n",
       "\\textbf{Jul/14}    &       0.4707  &        0.239     &     1.972  &         0.049        &        0.003    &        0.939     \\\\\n",
       "\\textbf{ar.L1}     &       0.5350  &        0.086     &     6.240  &         0.000        &        0.367    &        0.703     \\\\\n",
       "\\textbf{ma.L1}     &      -0.6352  &        0.103     &    -6.175  &         0.000        &       -0.837    &       -0.434     \\\\\n",
       "\\textbf{ma.L2}     &      -0.2595  &        0.070     &    -3.693  &         0.000        &       -0.397    &       -0.122     \\\\\n",
       "\\textbf{ar.S.L12}  &       0.9712  &        0.017     &    58.429  &         0.000        &        0.939    &        1.004     \\\\\n",
       "\\textbf{ma.S.L12}  &      -0.7056  &        0.068     &   -10.356  &         0.000        &       -0.839    &       -0.572     \\\\\n",
       "\\textbf{sigma2}    &       0.0558  &        0.004     &    13.128  &         0.000        &        0.048    &        0.064     \\\\\n",
       "\\bottomrule\n",
       "\\end{tabular}\n",
       "\\begin{tabular}{lclc}\n",
       "\\textbf{Ljung-Box (L1) (Q):}     & 0.04 & \\textbf{  Jarque-Bera (JB):  } &  9.49  \\\\\n",
       "\\textbf{Prob(Q):}                & 0.85 & \\textbf{  Prob(JB):          } &  0.01  \\\\\n",
       "\\textbf{Heteroskedasticity (H):} & 2.05 & \\textbf{  Skew:              } & -0.14  \\\\\n",
       "\\textbf{Prob(H) (two-sided):}    & 0.00 & \\textbf{  Kurtosis:          } &  3.82  \\\\\n",
       "\\bottomrule\n",
       "\\end{tabular}\n",
       "%\\caption{SARIMAX Results}\n",
       "\\end{center}\n",
       "\n",
       "Warnings: \\newline\n",
       " [1] Covariance matrix calculated using the outer product of gradients (complex-step)."
      ],
      "text/plain": [
       "<class 'statsmodels.iolib.summary.Summary'>\n",
       "\"\"\"\n",
       "                                      SARIMAX Results                                       \n",
       "============================================================================================\n",
       "Dep. Variable:                                    y   No. Observations:                  307\n",
       "Model:             SARIMAX(1, 1, 2)x(1, 0, [1], 12)   Log Likelihood                  -3.498\n",
       "Date:                              Wed, 13 Nov 2024   AIC                             26.996\n",
       "Time:                                      17:17:01   BIC                             64.232\n",
       "Sample:                                  01-01-1998   HQIC                            41.888\n",
       "                                       - 07-01-2023                                         \n",
       "Covariance Type:                                opg                                         \n",
       "==============================================================================\n",
       "                 coef    std err          z      P>|z|      [0.025      0.975]\n",
       "------------------------------------------------------------------------------\n",
       "intercept      0.0001      0.000      0.361      0.718      -0.000       0.001\n",
       "Aug/08        -0.6454      0.083     -7.780      0.000      -0.808      -0.483\n",
       "Jun/14        -1.2275      0.318     -3.860      0.000      -1.851      -0.604\n",
       "Jul/14         0.4707      0.239      1.972      0.049       0.003       0.939\n",
       "ar.L1          0.5350      0.086      6.240      0.000       0.367       0.703\n",
       "ma.L1         -0.6352      0.103     -6.175      0.000      -0.837      -0.434\n",
       "ma.L2         -0.2595      0.070     -3.693      0.000      -0.397      -0.122\n",
       "ar.S.L12       0.9712      0.017     58.429      0.000       0.939       1.004\n",
       "ma.S.L12      -0.7056      0.068    -10.356      0.000      -0.839      -0.572\n",
       "sigma2         0.0558      0.004     13.128      0.000       0.048       0.064\n",
       "===================================================================================\n",
       "Ljung-Box (L1) (Q):                   0.04   Jarque-Bera (JB):                 9.49\n",
       "Prob(Q):                              0.85   Prob(JB):                         0.01\n",
       "Heteroskedasticity (H):               2.05   Skew:                            -0.14\n",
       "Prob(H) (two-sided):                  0.00   Kurtosis:                         3.82\n",
       "===================================================================================\n",
       "\n",
       "Warnings:\n",
       "[1] Covariance matrix calculated using the outer product of gradients (complex-step).\n",
       "\"\"\""
      ]
     },
     "execution_count": 152,
     "metadata": {},
     "output_type": "execute_result"
    }
   ],
   "source": [
    "arima_improved.summary()"
   ]
  },
  {
   "cell_type": "markdown",
   "id": "7f979b70-d325-4e1c-a32d-dc7d75533353",
   "metadata": {},
   "source": [
    "#### (ii) XGBoost\n",
    "\n",
    "A inclusão da variável dummy no XGBoost não mudou o resultado dos testes de diagnóstico. A variável nova também não apresentou ganho relevante na importance matrix. No entanto, a reestimação do modelo apresentou uma variação significativa no peso da variável do mês, o que melhorou as métricas de aderência fora da amostra."
   ]
  },
  {
   "cell_type": "code",
   "execution_count": 546,
   "id": "2fefde7c-f065-4fd8-9442-fbb19a23d3be",
   "metadata": {},
   "outputs": [
    {
     "data": {
      "text/html": [
       "<div>\n",
       "<style scoped>\n",
       "    .dataframe tbody tr th:only-of-type {\n",
       "        vertical-align: middle;\n",
       "    }\n",
       "\n",
       "    .dataframe tbody tr th {\n",
       "        vertical-align: top;\n",
       "    }\n",
       "\n",
       "    .dataframe thead th {\n",
       "        text-align: right;\n",
       "    }\n",
       "</style>\n",
       "<table border=\"1\" class=\"dataframe\">\n",
       "  <thead>\n",
       "    <tr style=\"text-align: right;\">\n",
       "      <th></th>\n",
       "      <th>Sep/01</th>\n",
       "    </tr>\n",
       "    <tr>\n",
       "      <th>date</th>\n",
       "      <th></th>\n",
       "    </tr>\n",
       "  </thead>\n",
       "  <tbody>\n",
       "    <tr>\n",
       "      <th>2001-09-01</th>\n",
       "      <td>1</td>\n",
       "    </tr>\n",
       "    <tr>\n",
       "      <th>2001-10-01</th>\n",
       "      <td>0</td>\n",
       "    </tr>\n",
       "    <tr>\n",
       "      <th>2001-11-01</th>\n",
       "      <td>0</td>\n",
       "    </tr>\n",
       "    <tr>\n",
       "      <th>2001-12-01</th>\n",
       "      <td>0</td>\n",
       "    </tr>\n",
       "    <tr>\n",
       "      <th>2002-01-01</th>\n",
       "      <td>0</td>\n",
       "    </tr>\n",
       "  </tbody>\n",
       "</table>\n",
       "</div>"
      ],
      "text/plain": [
       "            Sep/01\n",
       "date              \n",
       "2001-09-01       1\n",
       "2001-10-01       0\n",
       "2001-11-01       0\n",
       "2001-12-01       0\n",
       "2002-01-01       0"
      ]
     },
     "execution_count": 546,
     "metadata": {},
     "output_type": "execute_result"
    }
   ],
   "source": [
    "# criação das dummies\n",
    "dummies = pd.get_dummies(outliers_xgb.index, dtype=int).T\n",
    "dummies.columns = outliers_xgb.index.strftime('%b/%y').values\n",
    "dummies = dummies.reindex(series.index, fill_value=0)\n",
    "dummies.loc[outliers_xgb.index[0]:].head()"
   ]
  },
  {
   "cell_type": "code",
   "execution_count": 567,
   "id": "f1312804-8290-4e79-b771-b92c940d4ab8",
   "metadata": {},
   "outputs": [],
   "source": [
    "# estimação do modelo\n",
    "xgboost = XGBRegressor(objective='reg:squarederror', max_depth=6, \n",
    "                           eta=0.1, subsample=0.8, colsample_bytree=0.8)\n",
    "\n",
    "xgboost.fit(features_xgboost_train.join(dummies), series_diff_train.loc[features_xgboost_train.index])\n",
    "\n",
    "# resíduos\n",
    "predictions = pd.Series(\n",
    "    xgboost.predict(features_xgboost_train.join(dummies)), \n",
    "    index=features_xgboost_train.index\n",
    ")\n",
    "resid_improved['XGBoost dummies'] = series_diff_train.loc[features_xgboost_train.index,'value'].sub(predictions)\n",
    "\n",
    "# padronizando os resíduos\n",
    "resid_improved = resid_improved.sub(resid_improved.mean()).div(resid_improved.std())"
   ]
  },
  {
   "cell_type": "code",
   "execution_count": 568,
   "id": "217b50b8-299f-4925-bcd6-3959c732bc7e",
   "metadata": {},
   "outputs": [
    {
     "data": {
      "image/png": "[encoded data removed]",
      "text/plain": [
       "<Figure size 1080x720 with 4 Axes>"
      ]
     },
     "metadata": {
      "needs_background": "light"
     },
     "output_type": "display_data"
    }
   ],
   "source": [
    "plot_diagnosticos('XGBoost dummies', 'Diagnóstico XGBoost', resid_improved.dropna())"
   ]
  },
  {
   "cell_type": "code",
   "execution_count": 569,
   "id": "1e1e16f4-821c-45db-a8c0-4a036c2df860",
   "metadata": {},
   "outputs": [
    {
     "data": {
      "text/html": [
       "<div>\n",
       "<style scoped>\n",
       "    .dataframe tbody tr th:only-of-type {\n",
       "        vertical-align: middle;\n",
       "    }\n",
       "\n",
       "    .dataframe tbody tr th {\n",
       "        vertical-align: top;\n",
       "    }\n",
       "\n",
       "    .dataframe thead th {\n",
       "        text-align: right;\n",
       "    }\n",
       "</style>\n",
       "<table border=\"1\" class=\"dataframe\">\n",
       "  <thead>\n",
       "    <tr style=\"text-align: right;\">\n",
       "      <th></th>\n",
       "      <th></th>\n",
       "      <th></th>\n",
       "      <th>Resultado</th>\n",
       "    </tr>\n",
       "    <tr>\n",
       "      <th>Modelo</th>\n",
       "      <th>Hipótese nula</th>\n",
       "      <th>Métrica</th>\n",
       "      <th></th>\n",
       "    </tr>\n",
       "  </thead>\n",
       "  <tbody>\n",
       "    <tr>\n",
       "      <th rowspan=\"9\" valign=\"top\">XGBoost dummies</th>\n",
       "      <th rowspan=\"4\" valign=\"top\">Normalidade</th>\n",
       "      <th>Assimetria</th>\n",
       "      <td>Coeficiente: -0.04</td>\n",
       "    </tr>\n",
       "    <tr>\n",
       "      <th>Curtose</th>\n",
       "      <td>Coeficiente: 5.02</td>\n",
       "    </tr>\n",
       "    <tr>\n",
       "      <th>Jarque-Bera</th>\n",
       "      <td>Estatística: 47.2, p-valor: 0.00</td>\n",
       "    </tr>\n",
       "    <tr>\n",
       "      <th>Q-Q plot</th>\n",
       "      <td>Gráfico</td>\n",
       "    </tr>\n",
       "    <tr>\n",
       "      <th rowspan=\"2\" valign=\"top\">Autocorrelação nula</th>\n",
       "      <th>FAC</th>\n",
       "      <td>Gráfico</td>\n",
       "    </tr>\n",
       "    <tr>\n",
       "      <th>Ljung-Box</th>\n",
       "      <td>Estatística: 18.4, p-valor: 0.56</td>\n",
       "    </tr>\n",
       "    <tr>\n",
       "      <th rowspan=\"3\" valign=\"top\">Homocedasticidade</th>\n",
       "      <th>FAC resid2</th>\n",
       "      <td>Gráfico</td>\n",
       "    </tr>\n",
       "    <tr>\n",
       "      <th>ARCH</th>\n",
       "      <td>Estatística: 12.4, p-valor: 0.26</td>\n",
       "    </tr>\n",
       "    <tr>\n",
       "      <th>Teste H</th>\n",
       "      <td>Estatística: 0.9, p-valor: 0.46</td>\n",
       "    </tr>\n",
       "  </tbody>\n",
       "</table>\n",
       "</div>"
      ],
      "text/plain": [
       "                                                                        Resultado\n",
       "Modelo          Hipótese nula       Métrica                                      \n",
       "XGBoost dummies Normalidade         Assimetria                 Coeficiente: -0.04\n",
       "                                    Curtose                     Coeficiente: 5.02\n",
       "                                    Jarque-Bera  Estatística: 47.2, p-valor: 0.00\n",
       "                                    Q-Q plot                              Gráfico\n",
       "                Autocorrelação nula FAC                                   Gráfico\n",
       "                                    Ljung-Box    Estatística: 18.4, p-valor: 0.56\n",
       "                Homocedasticidade   FAC resid2                            Gráfico\n",
       "                                    ARCH         Estatística: 12.4, p-valor: 0.26\n",
       "                                    Teste H       Estatística: 0.9, p-valor: 0.46"
      ]
     },
     "execution_count": 569,
     "metadata": {},
     "output_type": "execute_result"
    }
   ],
   "source": [
    "calcula_diagnosticos(['XGBoost dummies'], resid_improved.dropna())"
   ]
  },
  {
   "cell_type": "code",
   "execution_count": 571,
   "id": "ad76ce81-1c14-4f9b-8324-9a23dd2894a6",
   "metadata": {},
   "outputs": [
    {
     "data": {
      "image/png": "[encoded data removed]",
      "text/plain": [
       "<Figure size 720x360 with 1 Axes>"
      ]
     },
     "metadata": {
      "needs_background": "light"
     },
     "output_type": "display_data"
    }
   ],
   "source": [
    "# importance matrix\n",
    "importance_matrix = xgboost.get_booster().get_score(importance_type='gain')\n",
    "importance_matrix = pd.Series(importance_matrix).sort_values(ascending=False)\n",
    "\n",
    "# feature importance plot\n",
    "fig, ax = plt.subplots(figsize=(10,5))\n",
    "label = ax.bar(importance_matrix.index, importance_matrix.round(2), zorder=2)\n",
    "ax.bar_label(label, padding=5)\n",
    "ax.set_xticks(importance_matrix.index, importance_matrix.index, rotation=45)\n",
    "ax.set_ylim(top=2.9)\n",
    "ax.set_ylabel('Ganho absoluto')\n",
    "ax.grid(axis='y', linestyle=':', zorder=1)\n",
    "ax.set_title('Feature importance plot')\n",
    "plt.show()"
   ]
  },
  {
   "cell_type": "code",
   "execution_count": 572,
   "id": "0bc7020c-76e5-4e84-87b6-a38160e586e8",
   "metadata": {},
   "outputs": [],
   "source": [
    "# ajuste dos dados indisponíveis no período de teste\n",
    "for i in range(1,13):\n",
    "    features_xgboost_test.iloc[i:].loc[:,f'lag_{i}'] = np.nan\n",
    "features_xgboost_test.iloc[1:].loc[:,['ma3m','ma6m','ma12m']] = np.nan\n",
    "\n",
    "series_diff.loc[series_diff_test.index, 'value'] = np.nan\n",
    "y_pred = pd.Series(index=features_xgboost_test.index)\n",
    "\n",
    "# loop de previsões\n",
    "for date in features_xgboost_test.index:\n",
    "    # preenche lags\n",
    "    for i in range(1,13):\n",
    "        features_xgboost.at[date, f'lag_{i}'] = series_diff.shift(i).loc[date,'value']\n",
    "\n",
    "    # preenche médias móveis\n",
    "    features_xgboost_test.at[date,'ma3m'] = series_diff.rolling(3, closed='left').mean().loc[date,'value']\n",
    "    features_xgboost_test.at[date,'ma6m'] = series_diff.rolling(6, closed='left').mean().loc[date,'value']\n",
    "    features_xgboost_test.at[date,'ma12m'] = series_diff.rolling(12, closed='left').mean().loc[date,'value']\n",
    "    \n",
    "    # faz previsão do diff para a data\n",
    "    y_pred[date] = xgboost.predict(features_xgboost_test.join(dummies).loc[[date]])[0]\n",
    "    series_diff.at[date,'value'] = y_pred[date]\n",
    "\n",
    "# cálculo das previsões para a escala orginal\n",
    "predictions = y_pred.to_frame('diff').join(\n",
    "    pd.concat([series_train.iloc[[-1],0], y_pred]).cumsum().to_frame('level')\n",
    ")"
   ]
  },
  {
   "cell_type": "code",
   "execution_count": 573,
   "id": "2eb27d12-abf5-4734-9af7-9dbd2a5c2d71",
   "metadata": {},
   "outputs": [
    {
     "data": {
      "text/html": [
       "<div>\n",
       "<style scoped>\n",
       "    .dataframe tbody tr th:only-of-type {\n",
       "        vertical-align: middle;\n",
       "    }\n",
       "\n",
       "    .dataframe tbody tr th {\n",
       "        vertical-align: top;\n",
       "    }\n",
       "\n",
       "    .dataframe thead th {\n",
       "        text-align: right;\n",
       "    }\n",
       "</style>\n",
       "<table border=\"1\" class=\"dataframe\">\n",
       "  <thead>\n",
       "    <tr style=\"text-align: right;\">\n",
       "      <th></th>\n",
       "      <th>model</th>\n",
       "      <th>RMSE</th>\n",
       "      <th>MAD</th>\n",
       "      <th>MAPE</th>\n",
       "      <th>SMape</th>\n",
       "      <th>MASE</th>\n",
       "    </tr>\n",
       "  </thead>\n",
       "  <tbody>\n",
       "    <tr>\n",
       "      <th>0</th>\n",
       "      <td>naive1</td>\n",
       "      <td>4.1941</td>\n",
       "      <td>0.9810</td>\n",
       "      <td>33.7351</td>\n",
       "      <td>25.9715</td>\n",
       "      <td>2.5053</td>\n",
       "    </tr>\n",
       "    <tr>\n",
       "      <th>1</th>\n",
       "      <td>naive2</td>\n",
       "      <td>1.8929</td>\n",
       "      <td>0.4031</td>\n",
       "      <td>9.8661</td>\n",
       "      <td>10.3159</td>\n",
       "      <td>1.0296</td>\n",
       "    </tr>\n",
       "    <tr>\n",
       "      <th>2</th>\n",
       "      <td>melhor modelo ETS</td>\n",
       "      <td>1.4164</td>\n",
       "      <td>0.3159</td>\n",
       "      <td>10.3434</td>\n",
       "      <td>9.5176</td>\n",
       "      <td>0.8069</td>\n",
       "    </tr>\n",
       "    <tr>\n",
       "      <th>3</th>\n",
       "      <td>SARIMA simples</td>\n",
       "      <td>1.1238</td>\n",
       "      <td>0.2446</td>\n",
       "      <td>7.5876</td>\n",
       "      <td>7.2373</td>\n",
       "      <td>0.6247</td>\n",
       "    </tr>\n",
       "    <tr>\n",
       "      <th>4</th>\n",
       "      <td>SARIMA com dummies</td>\n",
       "      <td>1.2337</td>\n",
       "      <td>0.2751</td>\n",
       "      <td>8.5534</td>\n",
       "      <td>8.0922</td>\n",
       "      <td>0.7026</td>\n",
       "    </tr>\n",
       "    <tr>\n",
       "      <th>5</th>\n",
       "      <td>SARIMA log com dummies</td>\n",
       "      <td>1.1976</td>\n",
       "      <td>0.2529</td>\n",
       "      <td>8.0646</td>\n",
       "      <td>7.5115</td>\n",
       "      <td>0.6459</td>\n",
       "    </tr>\n",
       "    <tr>\n",
       "      <th>6</th>\n",
       "      <td>XGBoost</td>\n",
       "      <td>1.1753</td>\n",
       "      <td>0.2864</td>\n",
       "      <td>9.0653</td>\n",
       "      <td>8.4758</td>\n",
       "      <td>0.7315</td>\n",
       "    </tr>\n",
       "    <tr>\n",
       "      <th>7</th>\n",
       "      <td>XGBoost com dummies</td>\n",
       "      <td>1.0412</td>\n",
       "      <td>0.2345</td>\n",
       "      <td>7.4146</td>\n",
       "      <td>6.9947</td>\n",
       "      <td>0.5989</td>\n",
       "    </tr>\n",
       "  </tbody>\n",
       "</table>\n",
       "</div>"
      ],
      "text/plain": [
       "                    model    RMSE     MAD     MAPE    SMape    MASE\n",
       "0                  naive1  4.1941  0.9810  33.7351  25.9715  2.5053\n",
       "1                  naive2  1.8929  0.4031   9.8661  10.3159  1.0296\n",
       "2       melhor modelo ETS  1.4164  0.3159  10.3434   9.5176  0.8069\n",
       "3          SARIMA simples  1.1238  0.2446   7.5876   7.2373  0.6247\n",
       "4      SARIMA com dummies  1.2337  0.2751   8.5534   8.0922  0.7026\n",
       "5  SARIMA log com dummies  1.1976  0.2529   8.0646   7.5115  0.6459\n",
       "6                 XGBoost  1.1753  0.2864   9.0653   8.4758  0.7315\n",
       "7     XGBoost com dummies  1.0412  0.2345   7.4146   6.9947  0.5989"
      ]
     },
     "execution_count": 573,
     "metadata": {},
     "output_type": "execute_result"
    }
   ],
   "source": [
    "# métricas de aderência\n",
    "df_metrics_test.loc[df_metrics_test.shape[0]-1] = [\n",
    "    *calculate_metrics('XGBoost com dummies', series_test['value'], predictions['level'].values)\n",
    "]\n",
    "df_metrics_test.round(4)"
   ]
  },
  {
   "cell_type": "code",
   "execution_count": null,
   "id": "6c5fc104-f893-4d79-ab33-66e2d08ee198",
   "metadata": {},
   "outputs": [],
   "source": []
  },
  {
   "cell_type": "markdown",
   "id": "be6c0e76-210d-45c0-baf3-ef586bf09a20",
   "metadata": {},
   "source": [
    "### f) Modelo para o log"
   ]
  },
  {
   "cell_type": "markdown",
   "id": "07ad1919-dee4-4b4d-9edc-b227be770029",
   "metadata": {},
   "source": [
    "$ \\textbf{(i)}$ \n",
    "O modelo escolhido pelo auto arima para o log da série foi o SARIMA(2,1,1)(1,0,1). Esse modelo possui as mesmas ordens sazonais e ordem d de diferenciação que os anteriores, mas difere nas ordens p e q da parte não sazonal em uma unidade."
   ]
  },
  {
   "cell_type": "code",
   "execution_count": 199,
   "id": "dbc2deb9-01eb-4e88-85b0-269022cc8d27",
   "metadata": {},
   "outputs": [
    {
     "data": {
      "text/html": [
       "<style>#sk-container-id-3 {color: black;}#sk-container-id-3 pre{padding: 0;}#sk-container-id-3 div.sk-toggleable {background-color: white;}#sk-container-id-3 label.sk-toggleable__label {cursor: pointer;display: block;width: 100%;margin-bottom: 0;padding: 0.3em;box-sizing: border-box;text-align: center;}#sk-container-id-3 label.sk-toggleable__label-arrow:before {content: \"▸\";float: left;margin-right: 0.25em;color: #696969;}#sk-container-id-3 label.sk-toggleable__label-arrow:hover:before {color: black;}#sk-container-id-3 div.sk-estimator:hover label.sk-toggleable__label-arrow:before {color: black;}#sk-container-id-3 div.sk-toggleable__content {max-height: 0;max-width: 0;overflow: hidden;text-align: left;background-color: #f0f8ff;}#sk-container-id-3 div.sk-toggleable__content pre {margin: 0.2em;color: black;border-radius: 0.25em;background-color: #f0f8ff;}#sk-container-id-3 input.sk-toggleable__control:checked~div.sk-toggleable__content {max-height: 200px;max-width: 100%;overflow: auto;}#sk-container-id-3 input.sk-toggleable__control:checked~label.sk-toggleable__label-arrow:before {content: \"▾\";}#sk-container-id-3 div.sk-estimator input.sk-toggleable__control:checked~label.sk-toggleable__label {background-color: #d4ebff;}#sk-container-id-3 div.sk-label input.sk-toggleable__control:checked~label.sk-toggleable__label {background-color: #d4ebff;}#sk-container-id-3 input.sk-hidden--visually {border: 0;clip: rect(1px 1px 1px 1px);clip: rect(1px, 1px, 1px, 1px);height: 1px;margin: -1px;overflow: hidden;padding: 0;position: absolute;width: 1px;}#sk-container-id-3 div.sk-estimator {font-family: monospace;background-color: #f0f8ff;border: 1px dotted black;border-radius: 0.25em;box-sizing: border-box;margin-bottom: 0.5em;}#sk-container-id-3 div.sk-estimator:hover {background-color: #d4ebff;}#sk-container-id-3 div.sk-parallel-item::after {content: \"\";width: 100%;border-bottom: 1px solid gray;flex-grow: 1;}#sk-container-id-3 div.sk-label:hover label.sk-toggleable__label {background-color: #d4ebff;}#sk-container-id-3 div.sk-serial::before {content: \"\";position: absolute;border-left: 1px solid gray;box-sizing: border-box;top: 0;bottom: 0;left: 50%;z-index: 0;}#sk-container-id-3 div.sk-serial {display: flex;flex-direction: column;align-items: center;background-color: white;padding-right: 0.2em;padding-left: 0.2em;position: relative;}#sk-container-id-3 div.sk-item {position: relative;z-index: 1;}#sk-container-id-3 div.sk-parallel {display: flex;align-items: stretch;justify-content: center;background-color: white;position: relative;}#sk-container-id-3 div.sk-item::before, #sk-container-id-3 div.sk-parallel-item::before {content: \"\";position: absolute;border-left: 1px solid gray;box-sizing: border-box;top: 0;bottom: 0;left: 50%;z-index: -1;}#sk-container-id-3 div.sk-parallel-item {display: flex;flex-direction: column;z-index: 1;position: relative;background-color: white;}#sk-container-id-3 div.sk-parallel-item:first-child::after {align-self: flex-end;width: 50%;}#sk-container-id-3 div.sk-parallel-item:last-child::after {align-self: flex-start;width: 50%;}#sk-container-id-3 div.sk-parallel-item:only-child::after {width: 0;}#sk-container-id-3 div.sk-dashed-wrapped {border: 1px dashed gray;margin: 0 0.4em 0.5em 0.4em;box-sizing: border-box;padding-bottom: 0.4em;background-color: white;}#sk-container-id-3 div.sk-label label {font-family: monospace;font-weight: bold;display: inline-block;line-height: 1.2em;}#sk-container-id-3 div.sk-label-container {text-align: center;}#sk-container-id-3 div.sk-container {/* jupyter's `normalize.less` sets `[hidden] { display: none; }` but bootstrap.min.css set `[hidden] { display: none !important; }` so we also need the `!important` here to be able to override the default hidden behavior on the sphinx rendered scikit-learn.org. See: https://github.com/scikit-learn/scikit-learn/issues/21755 */display: inline-block !important;position: relative;}#sk-container-id-3 div.sk-text-repr-fallback {display: none;}</style><div id=\"sk-container-id-3\" class=\"sk-top-container\"><div class=\"sk-text-repr-fallback\"><pre> ARIMA(2,1,1)(1,0,1)[12] intercept</pre><b>In a Jupyter environment, please rerun this cell to show the HTML representation or trust the notebook. <br />On GitHub, the HTML representation is unable to render, please try loading this page with nbviewer.org.</b></div><div class=\"sk-container\" hidden><div class=\"sk-item\"><div class=\"sk-estimator sk-toggleable\"><input class=\"sk-toggleable__control sk-hidden--visually\" id=\"sk-estimator-id-3\" type=\"checkbox\" checked><label for=\"sk-estimator-id-3\" class=\"sk-toggleable__label sk-toggleable__label-arrow\">ARIMA</label><div class=\"sk-toggleable__content\"><pre> ARIMA(2,1,1)(1,0,1)[12] intercept</pre></div></div></div></div></div>"
      ],
      "text/plain": [
       "ARIMA(order=(2, 1, 1), scoring_args={}, seasonal_order=(1, 0, 1, 12),\n",
       "      suppress_warnings=True)"
      ]
     },
     "execution_count": 199,
     "metadata": {},
     "output_type": "execute_result"
    }
   ],
   "source": [
    "# estimação do auto arima\n",
    "arima_improved = auto_arima(np.log(series_train), X=dummies.loc[series_train.index], seasonal=True, m=12, information_criteria='aicc', \n",
    "                   stepwise=False, error_action='ignore', trace=False)\n",
    "\n",
    "# resíduos\n",
    "resid_improved = pd.DataFrame(columns=['SARIMA log','XGBoost'])\n",
    "resid_improved['SARIMA log'] = arima_improved.resid() \n",
    "\n",
    "# padronizando os resíduos\n",
    "resid_improved = resid_improved.sub(resid_improved.mean()).div(resid_improved.std())\n",
    "arima_improved"
   ]
  },
  {
   "cell_type": "markdown",
   "id": "fd14cc9e-fe8e-4b1c-a44c-b731aaad5d63",
   "metadata": {},
   "source": [
    "$ \\textbf{(ii)}$\n",
    "Apesar de também ter sido estimado com as dummies de outlier, o modelo para o log da série apresentou resíduos com coeficientes de assimetria e curtose mais diferentes de uma distribuição normal que o modelo para a série na escala original. Dessa forma, os resultados dos testes de normalidade não mudaram, evidenciando que os resíduos desse modelo não são normais. No resultado do teste Ljung-Box e na FAC dos resíduos, é indicada a presença de autocorrelação, sugerindo que para esse modelo é necessário ampliar a ordem de defasagens.\n",
    "\n",
    "Já os diagnósticos de homocedasticidade melhoraram, como esperado. O teste ARCH aceitou a hipótese nula dos resíduos possuírem variança constante, e a FAC dos resíduos quadráticos mostrou correlações mais baixas nos lags. O resultado das medidas de aderência também melhoraram com esse modelo, indicando que o uso da transformação logarítimica confere um desempenho melhor ao modelo fora da amostra."
   ]
  },
  {
   "cell_type": "code",
   "execution_count": 263,
   "id": "f639faca-4223-486b-b806-f2363883c224",
   "metadata": {},
   "outputs": [
    {
     "data": {
      "image/png": "[encoded data removed]",
      "text/plain": [
       "<Figure size 1080x720 with 4 Axes>"
      ]
     },
     "metadata": {
      "needs_background": "light"
     },
     "output_type": "display_data"
    }
   ],
   "source": [
    "plot_diagnosticos('SARIMA log', 'Diagnóstico SARIMA', resid_improved, lags=20)"
   ]
  },
  {
   "cell_type": "code",
   "execution_count": 202,
   "id": "5adee3b4-5111-4a5d-b31f-1ba602ac22b6",
   "metadata": {},
   "outputs": [
    {
     "data": {
      "text/html": [
       "<div>\n",
       "<style scoped>\n",
       "    .dataframe tbody tr th:only-of-type {\n",
       "        vertical-align: middle;\n",
       "    }\n",
       "\n",
       "    .dataframe tbody tr th {\n",
       "        vertical-align: top;\n",
       "    }\n",
       "\n",
       "    .dataframe thead th {\n",
       "        text-align: right;\n",
       "    }\n",
       "</style>\n",
       "<table border=\"1\" class=\"dataframe\">\n",
       "  <thead>\n",
       "    <tr style=\"text-align: right;\">\n",
       "      <th></th>\n",
       "      <th></th>\n",
       "      <th></th>\n",
       "      <th>Resultado</th>\n",
       "    </tr>\n",
       "    <tr>\n",
       "      <th>Modelo</th>\n",
       "      <th>Hipótese nula</th>\n",
       "      <th>Métrica</th>\n",
       "      <th></th>\n",
       "    </tr>\n",
       "  </thead>\n",
       "  <tbody>\n",
       "    <tr>\n",
       "      <th rowspan=\"9\" valign=\"top\">SARIMA log</th>\n",
       "      <th rowspan=\"4\" valign=\"top\">Normalidade</th>\n",
       "      <th>Assimetria</th>\n",
       "      <td>Coeficiente: -0.38</td>\n",
       "    </tr>\n",
       "    <tr>\n",
       "      <th>Curtose</th>\n",
       "      <td>Coeficiente: 4.99</td>\n",
       "    </tr>\n",
       "    <tr>\n",
       "      <th>Jarque-Bera</th>\n",
       "      <td>Estatística: 55.1, p-valor: 0.00</td>\n",
       "    </tr>\n",
       "    <tr>\n",
       "      <th>Q-Q plot</th>\n",
       "      <td>Gráfico</td>\n",
       "    </tr>\n",
       "    <tr>\n",
       "      <th rowspan=\"2\" valign=\"top\">Autocorrelação nula</th>\n",
       "      <th>FAC</th>\n",
       "      <td>Gráfico</td>\n",
       "    </tr>\n",
       "    <tr>\n",
       "      <th>Ljung-Box</th>\n",
       "      <td>Estatística: 37.1, p-valor: 0.01</td>\n",
       "    </tr>\n",
       "    <tr>\n",
       "      <th rowspan=\"3\" valign=\"top\">Homocedasticidade</th>\n",
       "      <th>FAC resid2</th>\n",
       "      <td>Gráfico</td>\n",
       "    </tr>\n",
       "    <tr>\n",
       "      <th>ARCH</th>\n",
       "      <td>Estatística: 5.4, p-valor: 0.86</td>\n",
       "    </tr>\n",
       "    <tr>\n",
       "      <th>Teste H</th>\n",
       "      <td>Estatística: 0.5, p-valor: 0.00</td>\n",
       "    </tr>\n",
       "  </tbody>\n",
       "</table>\n",
       "</div>"
      ],
      "text/plain": [
       "                                                                   Resultado\n",
       "Modelo     Hipótese nula       Métrica                                      \n",
       "SARIMA log Normalidade         Assimetria                 Coeficiente: -0.38\n",
       "                               Curtose                     Coeficiente: 4.99\n",
       "                               Jarque-Bera  Estatística: 55.1, p-valor: 0.00\n",
       "                               Q-Q plot                              Gráfico\n",
       "           Autocorrelação nula FAC                                   Gráfico\n",
       "                               Ljung-Box    Estatística: 37.1, p-valor: 0.01\n",
       "           Homocedasticidade   FAC resid2                            Gráfico\n",
       "                               ARCH          Estatística: 5.4, p-valor: 0.86\n",
       "                               Teste H       Estatística: 0.5, p-valor: 0.00"
      ]
     },
     "execution_count": 202,
     "metadata": {},
     "output_type": "execute_result"
    }
   ],
   "source": [
    "calcula_diagnosticos(['SARIMA log'], resid_improved)"
   ]
  },
  {
   "cell_type": "code",
   "execution_count": 265,
   "id": "b711da62-675a-4629-a883-2d91e6120dc9",
   "metadata": {},
   "outputs": [
    {
     "data": {
      "text/html": [
       "<div>\n",
       "<style scoped>\n",
       "    .dataframe tbody tr th:only-of-type {\n",
       "        vertical-align: middle;\n",
       "    }\n",
       "\n",
       "    .dataframe tbody tr th {\n",
       "        vertical-align: top;\n",
       "    }\n",
       "\n",
       "    .dataframe thead th {\n",
       "        text-align: right;\n",
       "    }\n",
       "</style>\n",
       "<table border=\"1\" class=\"dataframe\">\n",
       "  <thead>\n",
       "    <tr style=\"text-align: right;\">\n",
       "      <th></th>\n",
       "      <th>model</th>\n",
       "      <th>RMSE</th>\n",
       "      <th>MAD</th>\n",
       "      <th>MAPE</th>\n",
       "      <th>SMape</th>\n",
       "      <th>MASE</th>\n",
       "    </tr>\n",
       "  </thead>\n",
       "  <tbody>\n",
       "    <tr>\n",
       "      <th>4</th>\n",
       "      <td>SARIMA com dummies</td>\n",
       "      <td>1.2337</td>\n",
       "      <td>0.2751</td>\n",
       "      <td>8.5534</td>\n",
       "      <td>8.0922</td>\n",
       "      <td>0.7026</td>\n",
       "    </tr>\n",
       "    <tr>\n",
       "      <th>5</th>\n",
       "      <td>SARIMA log com dummies</td>\n",
       "      <td>1.1976</td>\n",
       "      <td>0.2529</td>\n",
       "      <td>8.0646</td>\n",
       "      <td>7.5115</td>\n",
       "      <td>0.6459</td>\n",
       "    </tr>\n",
       "  </tbody>\n",
       "</table>\n",
       "</div>"
      ],
      "text/plain": [
       "                    model    RMSE     MAD    MAPE   SMape    MASE\n",
       "4      SARIMA com dummies  1.2337  0.2751  8.5534  8.0922  0.7026\n",
       "5  SARIMA log com dummies  1.1976  0.2529  8.0646  7.5115  0.6459"
      ]
     },
     "execution_count": 265,
     "metadata": {},
     "output_type": "execute_result"
    }
   ],
   "source": [
    "# obtendo previsões na escala original para o modelo em log\n",
    "log_predictions = arima_improved.arima_res_.get_forecast(12, exog=dummies.loc[series_test.index])\n",
    "predictions = np.exp(log_predictions.predicted_mean + 1/2 * log_predictions.var_pred_mean)\n",
    "\n",
    "# modelo SARIMA\n",
    "df_metrics_test.loc[df_metrics_test.shape[0]] = [\n",
    "    *calculate_metrics('SARIMA log com dummies', series_test['value'], predictions.values)\n",
    "]\n",
    "df_metrics_test.iloc[-2:].round(4)"
   ]
  },
  {
   "cell_type": "markdown",
   "id": "24055818-365a-489d-a156-6c9c4e5a08b5",
   "metadata": {},
   "source": [
    "### g) Comparação dos modelos [fazer]\n"
   ]
  },
  {
   "cell_type": "code",
   "execution_count": 574,
   "id": "c6bdb81b-958c-4b73-94b2-5b55fd033350",
   "metadata": {},
   "outputs": [
    {
     "data": {
      "text/html": [
       "<div>\n",
       "<style scoped>\n",
       "    .dataframe tbody tr th:only-of-type {\n",
       "        vertical-align: middle;\n",
       "    }\n",
       "\n",
       "    .dataframe tbody tr th {\n",
       "        vertical-align: top;\n",
       "    }\n",
       "\n",
       "    .dataframe thead th {\n",
       "        text-align: right;\n",
       "    }\n",
       "</style>\n",
       "<table border=\"1\" class=\"dataframe\">\n",
       "  <thead>\n",
       "    <tr style=\"text-align: right;\">\n",
       "      <th></th>\n",
       "      <th>model</th>\n",
       "      <th>RMSE</th>\n",
       "      <th>MAD</th>\n",
       "      <th>MAPE</th>\n",
       "      <th>SMape</th>\n",
       "      <th>MASE</th>\n",
       "    </tr>\n",
       "  </thead>\n",
       "  <tbody>\n",
       "    <tr>\n",
       "      <th>0</th>\n",
       "      <td>naive1</td>\n",
       "      <td>4.1941</td>\n",
       "      <td>0.9810</td>\n",
       "      <td>33.7351</td>\n",
       "      <td>25.9715</td>\n",
       "      <td>2.5053</td>\n",
       "    </tr>\n",
       "    <tr>\n",
       "      <th>1</th>\n",
       "      <td>naive2</td>\n",
       "      <td>1.8929</td>\n",
       "      <td>0.4031</td>\n",
       "      <td>9.8661</td>\n",
       "      <td>10.3159</td>\n",
       "      <td>1.0296</td>\n",
       "    </tr>\n",
       "    <tr>\n",
       "      <th>2</th>\n",
       "      <td>melhor modelo ETS</td>\n",
       "      <td>1.4164</td>\n",
       "      <td>0.3159</td>\n",
       "      <td>10.3434</td>\n",
       "      <td>9.5176</td>\n",
       "      <td>0.8069</td>\n",
       "    </tr>\n",
       "    <tr>\n",
       "      <th>3</th>\n",
       "      <td>SARIMA simples</td>\n",
       "      <td>1.1238</td>\n",
       "      <td>0.2446</td>\n",
       "      <td>7.5876</td>\n",
       "      <td>7.2373</td>\n",
       "      <td>0.6247</td>\n",
       "    </tr>\n",
       "    <tr>\n",
       "      <th>4</th>\n",
       "      <td>SARIMA com dummies</td>\n",
       "      <td>1.2337</td>\n",
       "      <td>0.2751</td>\n",
       "      <td>8.5534</td>\n",
       "      <td>8.0922</td>\n",
       "      <td>0.7026</td>\n",
       "    </tr>\n",
       "    <tr>\n",
       "      <th>5</th>\n",
       "      <td>SARIMA log com dummies</td>\n",
       "      <td>1.1976</td>\n",
       "      <td>0.2529</td>\n",
       "      <td>8.0646</td>\n",
       "      <td>7.5115</td>\n",
       "      <td>0.6459</td>\n",
       "    </tr>\n",
       "    <tr>\n",
       "      <th>6</th>\n",
       "      <td>XGBoost</td>\n",
       "      <td>1.1753</td>\n",
       "      <td>0.2864</td>\n",
       "      <td>9.0653</td>\n",
       "      <td>8.4758</td>\n",
       "      <td>0.7315</td>\n",
       "    </tr>\n",
       "    <tr>\n",
       "      <th>7</th>\n",
       "      <td>XGBoost com dummies</td>\n",
       "      <td>1.0412</td>\n",
       "      <td>0.2345</td>\n",
       "      <td>7.4146</td>\n",
       "      <td>6.9947</td>\n",
       "      <td>0.5989</td>\n",
       "    </tr>\n",
       "  </tbody>\n",
       "</table>\n",
       "</div>"
      ],
      "text/plain": [
       "                    model    RMSE     MAD     MAPE    SMape    MASE\n",
       "0                  naive1  4.1941  0.9810  33.7351  25.9715  2.5053\n",
       "1                  naive2  1.8929  0.4031   9.8661  10.3159  1.0296\n",
       "2       melhor modelo ETS  1.4164  0.3159  10.3434   9.5176  0.8069\n",
       "3          SARIMA simples  1.1238  0.2446   7.5876   7.2373  0.6247\n",
       "4      SARIMA com dummies  1.2337  0.2751   8.5534   8.0922  0.7026\n",
       "5  SARIMA log com dummies  1.1976  0.2529   8.0646   7.5115  0.6459\n",
       "6                 XGBoost  1.1753  0.2864   9.0653   8.4758  0.7315\n",
       "7     XGBoost com dummies  1.0412  0.2345   7.4146   6.9947  0.5989"
      ]
     },
     "execution_count": 574,
     "metadata": {},
     "output_type": "execute_result"
    }
   ],
   "source": [
    "df_metrics_test.round(4)"
   ]
  },
  {
   "cell_type": "markdown",
   "id": "211470b7-719e-4f21-b65c-9b43e64485a7",
   "metadata": {},
   "source": [
    "# Questão 2 [fazer]"
   ]
  },
  {
   "cell_type": "code",
   "execution_count": null,
   "id": "7025630b-5709-4d34-af12-1f26a239a863",
   "metadata": {},
   "outputs": [],
   "source": []
  },
  {
   "cell_type": "code",
   "execution_count": null,
   "id": "9064e317-d0a7-40ae-beca-1eeb6f768377",
   "metadata": {},
   "outputs": [],
   "source": []
  }
 ],
 "metadata": {
  "kernelspec": {
   "display_name": "Python 3.8.6 64-bit ('venv': venv)",
   "language": "python",
   "name": "python38664bitvenvvenv1942bbcfb8704e829f2ee5038c9e22c8"
  },
  "language_info": {
   "codemirror_mode": {
    "name": "ipython",
    "version": 3
   },
   "file_extension": ".py",
   "mimetype": "text/x-python",
   "name": "python",
   "nbconvert_exporter": "python",
   "pygments_lexer": "ipython3",
   "version": "3.8.6rc1"
  }
 },
 "nbformat": 4,
 "nbformat_minor": 5
}
